{
 "cells": [
  {
   "cell_type": "code",
   "execution_count": 6,
   "metadata": {
    "_cell_guid": "b1076dfc-b9ad-4769-8c92-a6c4dae69d19",
    "_kg_hide-output": true,
    "_uuid": "8f2839f25d086af736a60e9eeb907d3b93b6e0e5",
    "execution": {
     "iopub.execute_input": "2021-04-25T18:42:07.294720Z",
     "iopub.status.busy": "2021-04-25T18:42:07.294108Z",
     "iopub.status.idle": "2021-04-25T18:42:29.859981Z",
     "shell.execute_reply": "2021-04-25T18:42:29.859136Z"
    },
    "papermill": {
     "duration": 22.586012,
     "end_time": "2021-04-25T18:42:29.860168",
     "exception": false,
     "start_time": "2021-04-25T18:42:07.274156",
     "status": "completed"
    },
    "tags": []
   },
   "outputs": [
    {
     "name": "stdout",
     "output_type": "stream",
     "text": [
      "/home/joshard/jupyter_env/files/deep_learn/deep_learning_project/known_images/normal/normal_153.png\n",
      "/home/joshard/jupyter_env/files/deep_learn/deep_learning_project/known_images/normal/normal_341.png\n",
      "/home/joshard/jupyter_env/files/deep_learn/deep_learning_project/known_images/normal/normal_127.png\n",
      "/home/joshard/jupyter_env/files/deep_learn/deep_learning_project/known_images/normal/normal_119.png\n",
      "/home/joshard/jupyter_env/files/deep_learn/deep_learning_project/known_images/normal/normal_107.png\n",
      "/home/joshard/jupyter_env/files/deep_learn/deep_learning_project/known_images/normal/normal_204.png\n",
      "/home/joshard/jupyter_env/files/deep_learn/deep_learning_project/known_images/normal/normal_672.png\n",
      "/home/joshard/jupyter_env/files/deep_learn/deep_learning_project/known_images/normal/normal_172.png\n",
      "/home/joshard/jupyter_env/files/deep_learn/deep_learning_project/known_images/normal/normal_115.png\n",
      "/home/joshard/jupyter_env/files/deep_learn/deep_learning_project/known_images/normal/normal_17.png\n",
      "/home/joshard/jupyter_env/files/deep_learn/deep_learning_project/known_images/normal/normal_185.png\n",
      "/home/joshard/jupyter_env/files/deep_learn/deep_learning_project/known_images/normal/normal_653.png\n",
      "/home/joshard/jupyter_env/files/deep_learn/deep_learning_project/known_images/normal/normal_144.png\n",
      "/home/joshard/jupyter_env/files/deep_learn/deep_learning_project/known_images/normal/normal_111.png\n",
      "/home/joshard/jupyter_env/files/deep_learn/deep_learning_project/known_images/normal/normal_114.png\n",
      "/home/joshard/jupyter_env/files/deep_learn/deep_learning_project/known_images/normal/normal_291.png\n",
      "/home/joshard/jupyter_env/files/deep_learn/deep_learning_project/known_images/normal/normal_72.png\n",
      "/home/joshard/jupyter_env/files/deep_learn/deep_learning_project/known_images/normal/normal_329.png\n",
      "/home/joshard/jupyter_env/files/deep_learn/deep_learning_project/known_images/normal/normal_31.png\n",
      "/home/joshard/jupyter_env/files/deep_learn/deep_learning_project/known_images/normal/normal_203.png\n",
      "/home/joshard/jupyter_env/files/deep_learn/deep_learning_project/known_images/normal/normal_669.png\n",
      "/home/joshard/jupyter_env/files/deep_learn/deep_learning_project/known_images/normal/normal_60.png\n",
      "/home/joshard/jupyter_env/files/deep_learn/deep_learning_project/known_images/normal/normal_242.png\n",
      "/home/joshard/jupyter_env/files/deep_learn/deep_learning_project/known_images/normal/normal_268.png\n",
      "/home/joshard/jupyter_env/files/deep_learn/deep_learning_project/known_images/normal/normal_661.png\n",
      "/home/joshard/jupyter_env/files/deep_learn/deep_learning_project/known_images/normal/normal_206.png\n",
      "/home/joshard/jupyter_env/files/deep_learn/deep_learning_project/known_images/normal/normal_307.png\n",
      "/home/joshard/jupyter_env/files/deep_learn/deep_learning_project/known_images/normal/normal_189.png\n",
      "/home/joshard/jupyter_env/files/deep_learn/deep_learning_project/known_images/normal/normal_30.png\n",
      "/home/joshard/jupyter_env/files/deep_learn/deep_learning_project/known_images/normal/normal_201.png\n",
      "/home/joshard/jupyter_env/files/deep_learn/deep_learning_project/known_images/normal/normal_249.png\n",
      "/home/joshard/jupyter_env/files/deep_learn/deep_learning_project/known_images/normal/normal_109.png\n",
      "/home/joshard/jupyter_env/files/deep_learn/deep_learning_project/known_images/normal/normal_663.png\n",
      "/home/joshard/jupyter_env/files/deep_learn/deep_learning_project/known_images/normal/normal_129.png\n",
      "/home/joshard/jupyter_env/files/deep_learn/deep_learning_project/known_images/normal/normal_87.png\n",
      "/home/joshard/jupyter_env/files/deep_learn/deep_learning_project/known_images/normal/normal_303.png\n",
      "/home/joshard/jupyter_env/files/deep_learn/deep_learning_project/known_images/normal/normal_256.png\n",
      "/home/joshard/jupyter_env/files/deep_learn/deep_learning_project/known_images/normal/normal_279.png\n",
      "/home/joshard/jupyter_env/files/deep_learn/deep_learning_project/known_images/normal/normal_298.png\n",
      "/home/joshard/jupyter_env/files/deep_learn/deep_learning_project/known_images/normal/normal_194.png\n",
      "/home/joshard/jupyter_env/files/deep_learn/deep_learning_project/known_images/normal/normal_221.png\n",
      "/home/joshard/jupyter_env/files/deep_learn/deep_learning_project/known_images/normal/normal_92.png\n",
      "/home/joshard/jupyter_env/files/deep_learn/deep_learning_project/known_images/normal/normal_241.png\n",
      "/home/joshard/jupyter_env/files/deep_learn/deep_learning_project/known_images/normal/normal_350.png\n",
      "/home/joshard/jupyter_env/files/deep_learn/deep_learning_project/known_images/normal/normal_39.png\n",
      "/home/joshard/jupyter_env/files/deep_learn/deep_learning_project/known_images/normal/normal_5.png\n",
      "/home/joshard/jupyter_env/files/deep_learn/deep_learning_project/known_images/normal/normal_74.png\n",
      "/home/joshard/jupyter_env/files/deep_learn/deep_learning_project/known_images/normal/normal_300.png\n",
      "/home/joshard/jupyter_env/files/deep_learn/deep_learning_project/known_images/normal/normal_51.png\n",
      "/home/joshard/jupyter_env/files/deep_learn/deep_learning_project/known_images/normal/normal_671.png\n",
      "/home/joshard/jupyter_env/files/deep_learn/deep_learning_project/known_images/normal/normal_205.png\n",
      "/home/joshard/jupyter_env/files/deep_learn/deep_learning_project/known_images/normal/normal_263.png\n",
      "/home/joshard/jupyter_env/files/deep_learn/deep_learning_project/known_images/normal/normal_180.png\n",
      "/home/joshard/jupyter_env/files/deep_learn/deep_learning_project/known_images/normal/normal_650.png\n",
      "/home/joshard/jupyter_env/files/deep_learn/deep_learning_project/known_images/normal/normal_354.png\n",
      "/home/joshard/jupyter_env/files/deep_learn/deep_learning_project/known_images/normal/normal_306.png\n",
      "/home/joshard/jupyter_env/files/deep_learn/deep_learning_project/known_images/normal/normal_12.png\n",
      "/home/joshard/jupyter_env/files/deep_learn/deep_learning_project/known_images/normal/normal_48.png\n",
      "/home/joshard/jupyter_env/files/deep_learn/deep_learning_project/known_images/normal/normal_347.png\n",
      "/home/joshard/jupyter_env/files/deep_learn/deep_learning_project/known_images/normal/normal_333.png\n",
      "/home/joshard/jupyter_env/files/deep_learn/deep_learning_project/known_images/normal/normal_266.png\n",
      "/home/joshard/jupyter_env/files/deep_learn/deep_learning_project/known_images/normal/normal_113.png\n",
      "/home/joshard/jupyter_env/files/deep_learn/deep_learning_project/known_images/normal/normal_646.png\n",
      "/home/joshard/jupyter_env/files/deep_learn/deep_learning_project/known_images/normal/normal_38.png\n",
      "/home/joshard/jupyter_env/files/deep_learn/deep_learning_project/known_images/normal/normal_664.png\n",
      "/home/joshard/jupyter_env/files/deep_learn/deep_learning_project/known_images/normal/normal_35.png\n",
      "/home/joshard/jupyter_env/files/deep_learn/deep_learning_project/known_images/normal/normal_346.png\n",
      "/home/joshard/jupyter_env/files/deep_learn/deep_learning_project/known_images/normal/normal_319.png\n",
      "/home/joshard/jupyter_env/files/deep_learn/deep_learning_project/known_images/normal/normal_317.png\n",
      "/home/joshard/jupyter_env/files/deep_learn/deep_learning_project/known_images/normal/normal_148.png\n",
      "/home/joshard/jupyter_env/files/deep_learn/deep_learning_project/known_images/normal/normal_668.png\n",
      "/home/joshard/jupyter_env/files/deep_learn/deep_learning_project/known_images/normal/normal_89.png\n",
      "/home/joshard/jupyter_env/files/deep_learn/deep_learning_project/known_images/normal/normal_356.png\n",
      "/home/joshard/jupyter_env/files/deep_learn/deep_learning_project/known_images/normal/normal_649.png\n",
      "/home/joshard/jupyter_env/files/deep_learn/deep_learning_project/known_images/normal/normal_269.png\n",
      "/home/joshard/jupyter_env/files/deep_learn/deep_learning_project/known_images/normal/normal_40.png\n",
      "/home/joshard/jupyter_env/files/deep_learn/deep_learning_project/known_images/normal/normal_318.png\n",
      "/home/joshard/jupyter_env/files/deep_learn/deep_learning_project/known_images/normal/normal_33.png\n",
      "/home/joshard/jupyter_env/files/deep_learn/deep_learning_project/known_images/normal/normal_315.png\n",
      "/home/joshard/jupyter_env/files/deep_learn/deep_learning_project/known_images/normal/normal_309.png\n",
      "/home/joshard/jupyter_env/files/deep_learn/deep_learning_project/known_images/normal/normal_134.png\n",
      "/home/joshard/jupyter_env/files/deep_learn/deep_learning_project/known_images/normal/normal_654.png\n",
      "/home/joshard/jupyter_env/files/deep_learn/deep_learning_project/known_images/normal/normal_59.png\n",
      "/home/joshard/jupyter_env/files/deep_learn/deep_learning_project/known_images/normal/normal_85.png\n",
      "/home/joshard/jupyter_env/files/deep_learn/deep_learning_project/known_images/normal/normal_186.png\n",
      "/home/joshard/jupyter_env/files/deep_learn/deep_learning_project/known_images/normal/normal_181.png\n",
      "/home/joshard/jupyter_env/files/deep_learn/deep_learning_project/known_images/normal/normal_236.png\n",
      "/home/joshard/jupyter_env/files/deep_learn/deep_learning_project/known_images/normal/normal_232.png\n",
      "/home/joshard/jupyter_env/files/deep_learn/deep_learning_project/known_images/normal/normal_151.png\n",
      "/home/joshard/jupyter_env/files/deep_learn/deep_learning_project/known_images/normal/normal_287.png\n",
      "/home/joshard/jupyter_env/files/deep_learn/deep_learning_project/known_images/normal/normal_342.png\n",
      "/home/joshard/jupyter_env/files/deep_learn/deep_learning_project/known_images/normal/normal_285.png\n",
      "/home/joshard/jupyter_env/files/deep_learn/deep_learning_project/known_images/normal/normal_99.png\n",
      "/home/joshard/jupyter_env/files/deep_learn/deep_learning_project/known_images/normal/normal_258.png\n",
      "/home/joshard/jupyter_env/files/deep_learn/deep_learning_project/known_images/normal/normal_294.png\n",
      "/home/joshard/jupyter_env/files/deep_learn/deep_learning_project/known_images/normal/normal_182.png\n",
      "/home/joshard/jupyter_env/files/deep_learn/deep_learning_project/known_images/normal/normal_50.png\n",
      "/home/joshard/jupyter_env/files/deep_learn/deep_learning_project/known_images/normal/normal_216.png\n",
      "/home/joshard/jupyter_env/files/deep_learn/deep_learning_project/known_images/normal/normal_168.png\n",
      "/home/joshard/jupyter_env/files/deep_learn/deep_learning_project/known_images/normal/normal_52.png\n",
      "/home/joshard/jupyter_env/files/deep_learn/deep_learning_project/known_images/normal/normal_20.png\n",
      "/home/joshard/jupyter_env/files/deep_learn/deep_learning_project/known_images/normal/normal_184.png\n",
      "/home/joshard/jupyter_env/files/deep_learn/deep_learning_project/known_images/normal/normal_360.png\n",
      "/home/joshard/jupyter_env/files/deep_learn/deep_learning_project/known_images/normal/normal_160.png\n",
      "/home/joshard/jupyter_env/files/deep_learn/deep_learning_project/known_images/normal/normal_82.png\n",
      "/home/joshard/jupyter_env/files/deep_learn/deep_learning_project/known_images/normal/normal_0.png\n",
      "/home/joshard/jupyter_env/files/deep_learn/deep_learning_project/known_images/normal/normal_320.png\n",
      "/home/joshard/jupyter_env/files/deep_learn/deep_learning_project/known_images/normal/normal_273.png\n",
      "/home/joshard/jupyter_env/files/deep_learn/deep_learning_project/known_images/normal/normal_32.png\n",
      "/home/joshard/jupyter_env/files/deep_learn/deep_learning_project/known_images/normal/normal_665.png\n",
      "/home/joshard/jupyter_env/files/deep_learn/deep_learning_project/known_images/normal/normal_237.png\n",
      "/home/joshard/jupyter_env/files/deep_learn/deep_learning_project/known_images/normal/normal_122.png\n",
      "/home/joshard/jupyter_env/files/deep_learn/deep_learning_project/known_images/normal/normal_23.png\n",
      "/home/joshard/jupyter_env/files/deep_learn/deep_learning_project/known_images/normal/normal_141.png\n",
      "/home/joshard/jupyter_env/files/deep_learn/deep_learning_project/known_images/normal/normal_138.png\n",
      "/home/joshard/jupyter_env/files/deep_learn/deep_learning_project/known_images/normal/normal_45.png\n",
      "/home/joshard/jupyter_env/files/deep_learn/deep_learning_project/known_images/normal/normal_274.png\n",
      "/home/joshard/jupyter_env/files/deep_learn/deep_learning_project/known_images/normal/normal_227.png\n",
      "/home/joshard/jupyter_env/files/deep_learn/deep_learning_project/known_images/normal/normal_88.png\n",
      "/home/joshard/jupyter_env/files/deep_learn/deep_learning_project/known_images/normal/normal_219.png\n",
      "/home/joshard/jupyter_env/files/deep_learn/deep_learning_project/known_images/normal/normal_250.png\n",
      "/home/joshard/jupyter_env/files/deep_learn/deep_learning_project/known_images/normal/normal_323.png\n",
      "/home/joshard/jupyter_env/files/deep_learn/deep_learning_project/known_images/normal/normal_647.png\n",
      "/home/joshard/jupyter_env/files/deep_learn/deep_learning_project/known_images/normal/normal_83.png\n",
      "/home/joshard/jupyter_env/files/deep_learn/deep_learning_project/known_images/normal/normal_10.png\n",
      "/home/joshard/jupyter_env/files/deep_learn/deep_learning_project/known_images/normal/normal_156.png\n",
      "/home/joshard/jupyter_env/files/deep_learn/deep_learning_project/known_images/normal/normal_47.png\n",
      "/home/joshard/jupyter_env/files/deep_learn/deep_learning_project/known_images/normal/normal_252.png\n",
      "/home/joshard/jupyter_env/files/deep_learn/deep_learning_project/known_images/normal/normal_225.png\n",
      "/home/joshard/jupyter_env/files/deep_learn/deep_learning_project/known_images/normal/normal_662.png\n",
      "/home/joshard/jupyter_env/files/deep_learn/deep_learning_project/known_images/normal/normal_188.png\n",
      "/home/joshard/jupyter_env/files/deep_learn/deep_learning_project/known_images/normal/normal_137.png\n",
      "/home/joshard/jupyter_env/files/deep_learn/deep_learning_project/known_images/normal/normal_284.png\n",
      "/home/joshard/jupyter_env/files/deep_learn/deep_learning_project/known_images/normal/normal_339.png\n",
      "/home/joshard/jupyter_env/files/deep_learn/deep_learning_project/known_images/normal/normal_193.png\n",
      "/home/joshard/jupyter_env/files/deep_learn/deep_learning_project/known_images/normal/normal_21.png\n",
      "/home/joshard/jupyter_env/files/deep_learn/deep_learning_project/known_images/normal/normal_195.png\n",
      "/home/joshard/jupyter_env/files/deep_learn/deep_learning_project/known_images/normal/normal_652.png\n",
      "/home/joshard/jupyter_env/files/deep_learn/deep_learning_project/known_images/normal/normal_660.png\n",
      "/home/joshard/jupyter_env/files/deep_learn/deep_learning_project/known_images/normal/normal_71.png\n",
      "/home/joshard/jupyter_env/files/deep_learn/deep_learning_project/known_images/normal/normal_56.png\n",
      "/home/joshard/jupyter_env/files/deep_learn/deep_learning_project/known_images/normal/normal_149.png\n",
      "/home/joshard/jupyter_env/files/deep_learn/deep_learning_project/known_images/normal/normal_310.png\n",
      "/home/joshard/jupyter_env/files/deep_learn/deep_learning_project/known_images/normal/normal_198.png\n",
      "/home/joshard/jupyter_env/files/deep_learn/deep_learning_project/known_images/normal/normal_264.png\n",
      "/home/joshard/jupyter_env/files/deep_learn/deep_learning_project/known_images/normal/normal_226.png\n",
      "/home/joshard/jupyter_env/files/deep_learn/deep_learning_project/known_images/normal/normal_18.png\n",
      "/home/joshard/jupyter_env/files/deep_learn/deep_learning_project/known_images/normal/normal_146.png\n",
      "/home/joshard/jupyter_env/files/deep_learn/deep_learning_project/known_images/normal/normal_22.png\n",
      "/home/joshard/jupyter_env/files/deep_learn/deep_learning_project/known_images/normal/normal_170.png\n",
      "/home/joshard/jupyter_env/files/deep_learn/deep_learning_project/known_images/normal/normal_97.png\n",
      "/home/joshard/jupyter_env/files/deep_learn/deep_learning_project/known_images/normal/normal_91.png\n",
      "/home/joshard/jupyter_env/files/deep_learn/deep_learning_project/known_images/normal/normal_86.png\n",
      "/home/joshard/jupyter_env/files/deep_learn/deep_learning_project/known_images/normal/normal_245.png\n",
      "/home/joshard/jupyter_env/files/deep_learn/deep_learning_project/known_images/normal/normal_208.png\n",
      "/home/joshard/jupyter_env/files/deep_learn/deep_learning_project/known_images/normal/normal_658.png\n",
      "/home/joshard/jupyter_env/files/deep_learn/deep_learning_project/known_images/normal/normal_321.png\n",
      "/home/joshard/jupyter_env/files/deep_learn/deep_learning_project/known_images/normal/normal_158.png\n",
      "/home/joshard/jupyter_env/files/deep_learn/deep_learning_project/known_images/normal/normal_164.png\n",
      "/home/joshard/jupyter_env/files/deep_learn/deep_learning_project/known_images/normal/normal_251.png\n",
      "/home/joshard/jupyter_env/files/deep_learn/deep_learning_project/known_images/normal/normal_42.png\n",
      "/home/joshard/jupyter_env/files/deep_learn/deep_learning_project/known_images/normal/normal_140.png\n",
      "/home/joshard/jupyter_env/files/deep_learn/deep_learning_project/known_images/normal/normal_220.png\n",
      "/home/joshard/jupyter_env/files/deep_learn/deep_learning_project/known_images/normal/normal_36.png\n",
      "/home/joshard/jupyter_env/files/deep_learn/deep_learning_project/known_images/normal/normal_167.png\n",
      "/home/joshard/jupyter_env/files/deep_learn/deep_learning_project/known_images/normal/normal_667.png\n",
      "/home/joshard/jupyter_env/files/deep_learn/deep_learning_project/known_images/normal/normal_124.png\n",
      "/home/joshard/jupyter_env/files/deep_learn/deep_learning_project/known_images/normal/normal_166.png\n",
      "/home/joshard/jupyter_env/files/deep_learn/deep_learning_project/known_images/normal/normal_299.png\n",
      "/home/joshard/jupyter_env/files/deep_learn/deep_learning_project/known_images/normal/normal_290.png\n",
      "/home/joshard/jupyter_env/files/deep_learn/deep_learning_project/known_images/normal/normal_123.png\n",
      "/home/joshard/jupyter_env/files/deep_learn/deep_learning_project/known_images/normal/normal_332.png\n",
      "/home/joshard/jupyter_env/files/deep_learn/deep_learning_project/known_images/normal/normal_112.png\n",
      "/home/joshard/jupyter_env/files/deep_learn/deep_learning_project/known_images/normal/normal_94.png\n",
      "/home/joshard/jupyter_env/files/deep_learn/deep_learning_project/known_images/normal/normal_29.png\n",
      "/home/joshard/jupyter_env/files/deep_learn/deep_learning_project/known_images/normal/normal_62.png\n",
      "/home/joshard/jupyter_env/files/deep_learn/deep_learning_project/known_images/normal/normal_302.png\n",
      "/home/joshard/jupyter_env/files/deep_learn/deep_learning_project/known_images/normal/normal_84.png\n",
      "/home/joshard/jupyter_env/files/deep_learn/deep_learning_project/known_images/normal/normal_248.png\n",
      "/home/joshard/jupyter_env/files/deep_learn/deep_learning_project/known_images/normal/normal_95.png\n",
      "/home/joshard/jupyter_env/files/deep_learn/deep_learning_project/known_images/normal/normal_246.png\n",
      "/home/joshard/jupyter_env/files/deep_learn/deep_learning_project/known_images/normal/normal_197.png\n",
      "/home/joshard/jupyter_env/files/deep_learn/deep_learning_project/known_images/normal/normal_301.png\n",
      "/home/joshard/jupyter_env/files/deep_learn/deep_learning_project/known_images/normal/normal_243.png\n",
      "/home/joshard/jupyter_env/files/deep_learn/deep_learning_project/known_images/normal/normal_262.png\n",
      "/home/joshard/jupyter_env/files/deep_learn/deep_learning_project/known_images/normal/normal_16.png\n",
      "/home/joshard/jupyter_env/files/deep_learn/deep_learning_project/known_images/normal/normal_131.png\n",
      "/home/joshard/jupyter_env/files/deep_learn/deep_learning_project/known_images/normal/normal_340.png\n",
      "/home/joshard/jupyter_env/files/deep_learn/deep_learning_project/known_images/normal/normal_176.png\n",
      "/home/joshard/jupyter_env/files/deep_learn/deep_learning_project/known_images/normal/normal_267.png\n",
      "/home/joshard/jupyter_env/files/deep_learn/deep_learning_project/known_images/normal/normal_154.png\n",
      "/home/joshard/jupyter_env/files/deep_learn/deep_learning_project/known_images/normal/normal_103.png\n",
      "/home/joshard/jupyter_env/files/deep_learn/deep_learning_project/known_images/normal/normal_215.png\n",
      "/home/joshard/jupyter_env/files/deep_learn/deep_learning_project/known_images/normal/normal_355.png\n",
      "/home/joshard/jupyter_env/files/deep_learn/deep_learning_project/known_images/normal/normal_308.png\n",
      "/home/joshard/jupyter_env/files/deep_learn/deep_learning_project/known_images/normal/normal_157.png\n",
      "/home/joshard/jupyter_env/files/deep_learn/deep_learning_project/known_images/normal/normal_214.png\n",
      "/home/joshard/jupyter_env/files/deep_learn/deep_learning_project/known_images/normal/normal_76.png\n",
      "/home/joshard/jupyter_env/files/deep_learn/deep_learning_project/known_images/normal/normal_314.png\n",
      "/home/joshard/jupyter_env/files/deep_learn/deep_learning_project/known_images/normal/normal_305.png\n",
      "/home/joshard/jupyter_env/files/deep_learn/deep_learning_project/known_images/normal/normal_55.png\n",
      "/home/joshard/jupyter_env/files/deep_learn/deep_learning_project/known_images/normal/normal_183.png\n",
      "/home/joshard/jupyter_env/files/deep_learn/deep_learning_project/known_images/normal/normal_64.png\n",
      "/home/joshard/jupyter_env/files/deep_learn/deep_learning_project/known_images/normal/normal_37.png\n",
      "/home/joshard/jupyter_env/files/deep_learn/deep_learning_project/known_images/normal/normal_278.png\n",
      "/home/joshard/jupyter_env/files/deep_learn/deep_learning_project/known_images/normal/normal_58.png\n",
      "/home/joshard/jupyter_env/files/deep_learn/deep_learning_project/known_images/normal/normal_80.png\n",
      "/home/joshard/jupyter_env/files/deep_learn/deep_learning_project/known_images/normal/normal_102.png\n",
      "/home/joshard/jupyter_env/files/deep_learn/deep_learning_project/known_images/normal/normal_328.png\n",
      "/home/joshard/jupyter_env/files/deep_learn/deep_learning_project/known_images/normal/normal_126.png\n",
      "/home/joshard/jupyter_env/files/deep_learn/deep_learning_project/known_images/normal/normal_349.png\n",
      "/home/joshard/jupyter_env/files/deep_learn/deep_learning_project/known_images/normal/normal_261.png\n",
      "/home/joshard/jupyter_env/files/deep_learn/deep_learning_project/known_images/normal/normal_78.png\n",
      "/home/joshard/jupyter_env/files/deep_learn/deep_learning_project/known_images/normal/normal_175.png\n",
      "/home/joshard/jupyter_env/files/deep_learn/deep_learning_project/known_images/normal/normal_150.png\n",
      "/home/joshard/jupyter_env/files/deep_learn/deep_learning_project/known_images/normal/normal_61.png\n",
      "/home/joshard/jupyter_env/files/deep_learn/deep_learning_project/known_images/normal/normal_651.png\n",
      "/home/joshard/jupyter_env/files/deep_learn/deep_learning_project/known_images/normal/normal_316.png\n",
      "/home/joshard/jupyter_env/files/deep_learn/deep_learning_project/known_images/normal/normal_666.png\n",
      "/home/joshard/jupyter_env/files/deep_learn/deep_learning_project/known_images/normal/normal_11.png\n",
      "/home/joshard/jupyter_env/files/deep_learn/deep_learning_project/known_images/normal/normal_211.png\n",
      "/home/joshard/jupyter_env/files/deep_learn/deep_learning_project/known_images/normal/normal_217.png\n",
      "/home/joshard/jupyter_env/files/deep_learn/deep_learning_project/known_images/normal/normal_9.png\n",
      "/home/joshard/jupyter_env/files/deep_learn/deep_learning_project/known_images/normal/normal_15.png\n",
      "/home/joshard/jupyter_env/files/deep_learn/deep_learning_project/known_images/normal/normal_142.png\n",
      "/home/joshard/jupyter_env/files/deep_learn/deep_learning_project/known_images/normal/normal_327.png\n",
      "/home/joshard/jupyter_env/files/deep_learn/deep_learning_project/known_images/normal/normal_106.png\n",
      "/home/joshard/jupyter_env/files/deep_learn/deep_learning_project/known_images/normal/normal_108.png\n",
      "/home/joshard/jupyter_env/files/deep_learn/deep_learning_project/known_images/normal/normal_357.png\n",
      "/home/joshard/jupyter_env/files/deep_learn/deep_learning_project/known_images/normal/normal_352.png\n",
      "/home/joshard/jupyter_env/files/deep_learn/deep_learning_project/known_images/normal/normal_313.png\n",
      "/home/joshard/jupyter_env/files/deep_learn/deep_learning_project/known_images/normal/normal_8.png\n",
      "/home/joshard/jupyter_env/files/deep_learn/deep_learning_project/known_images/normal/normal_120.png\n",
      "/home/joshard/jupyter_env/files/deep_learn/deep_learning_project/known_images/normal/normal_104.png\n",
      "/home/joshard/jupyter_env/files/deep_learn/deep_learning_project/known_images/normal/normal_331.png\n",
      "/home/joshard/jupyter_env/files/deep_learn/deep_learning_project/known_images/normal/normal_75.png\n",
      "/home/joshard/jupyter_env/files/deep_learn/deep_learning_project/known_images/normal/normal_289.png\n",
      "/home/joshard/jupyter_env/files/deep_learn/deep_learning_project/known_images/normal/normal_659.png\n",
      "/home/joshard/jupyter_env/files/deep_learn/deep_learning_project/known_images/normal/normal_152.png\n",
      "/home/joshard/jupyter_env/files/deep_learn/deep_learning_project/known_images/normal/normal_202.png\n",
      "/home/joshard/jupyter_env/files/deep_learn/deep_learning_project/known_images/normal/normal_179.png\n",
      "/home/joshard/jupyter_env/files/deep_learn/deep_learning_project/known_images/normal/normal_174.png\n",
      "/home/joshard/jupyter_env/files/deep_learn/deep_learning_project/known_images/normal/normal_177.png\n",
      "/home/joshard/jupyter_env/files/deep_learn/deep_learning_project/known_images/normal/normal_335.png\n",
      "/home/joshard/jupyter_env/files/deep_learn/deep_learning_project/known_images/normal/normal_270.png\n",
      "/home/joshard/jupyter_env/files/deep_learn/deep_learning_project/known_images/normal/normal_257.png\n",
      "/home/joshard/jupyter_env/files/deep_learn/deep_learning_project/known_images/normal/normal_121.png\n",
      "/home/joshard/jupyter_env/files/deep_learn/deep_learning_project/known_images/normal/normal_238.png\n",
      "/home/joshard/jupyter_env/files/deep_learn/deep_learning_project/known_images/normal/normal_276.png\n",
      "/home/joshard/jupyter_env/files/deep_learn/deep_learning_project/known_images/normal/normal_283.png\n",
      "/home/joshard/jupyter_env/files/deep_learn/deep_learning_project/known_images/normal/normal_234.png\n",
      "/home/joshard/jupyter_env/files/deep_learn/deep_learning_project/known_images/normal/normal_655.png\n",
      "/home/joshard/jupyter_env/files/deep_learn/deep_learning_project/known_images/normal/normal_233.png\n",
      "/home/joshard/jupyter_env/files/deep_learn/deep_learning_project/known_images/normal/normal_67.png\n",
      "/home/joshard/jupyter_env/files/deep_learn/deep_learning_project/known_images/normal/normal_254.png\n",
      "/home/joshard/jupyter_env/files/deep_learn/deep_learning_project/known_images/normal/normal_312.png\n",
      "/home/joshard/jupyter_env/files/deep_learn/deep_learning_project/known_images/normal/normal_130.png\n",
      "/home/joshard/jupyter_env/files/deep_learn/deep_learning_project/known_images/normal/normal_297.png\n",
      "/home/joshard/jupyter_env/files/deep_learn/deep_learning_project/known_images/normal/normal_145.png\n",
      "/home/joshard/jupyter_env/files/deep_learn/deep_learning_project/known_images/normal/normal_147.png\n",
      "/home/joshard/jupyter_env/files/deep_learn/deep_learning_project/known_images/normal/normal_159.png\n",
      "/home/joshard/jupyter_env/files/deep_learn/deep_learning_project/known_images/normal/normal_13.png\n",
      "/home/joshard/jupyter_env/files/deep_learn/deep_learning_project/known_images/normal/normal_209.png\n",
      "/home/joshard/jupyter_env/files/deep_learn/deep_learning_project/known_images/normal/normal_165.png\n",
      "/home/joshard/jupyter_env/files/deep_learn/deep_learning_project/known_images/normal/normal_199.png\n",
      "/home/joshard/jupyter_env/files/deep_learn/deep_learning_project/known_images/normal/normal_26.png\n",
      "/home/joshard/jupyter_env/files/deep_learn/deep_learning_project/known_images/normal/normal_231.png\n",
      "/home/joshard/jupyter_env/files/deep_learn/deep_learning_project/known_images/normal/normal_322.png\n",
      "/home/joshard/jupyter_env/files/deep_learn/deep_learning_project/known_images/normal/normal_53.png\n",
      "/home/joshard/jupyter_env/files/deep_learn/deep_learning_project/known_images/normal/normal_358.png\n",
      "/home/joshard/jupyter_env/files/deep_learn/deep_learning_project/known_images/normal/normal_260.png\n",
      "/home/joshard/jupyter_env/files/deep_learn/deep_learning_project/known_images/normal/normal_244.png\n",
      "/home/joshard/jupyter_env/files/deep_learn/deep_learning_project/known_images/normal/normal_101.png\n",
      "/home/joshard/jupyter_env/files/deep_learn/deep_learning_project/known_images/normal/normal_345.png\n",
      "/home/joshard/jupyter_env/files/deep_learn/deep_learning_project/known_images/normal/normal_163.png\n",
      "/home/joshard/jupyter_env/files/deep_learn/deep_learning_project/known_images/normal/normal_3.png\n",
      "/home/joshard/jupyter_env/files/deep_learn/deep_learning_project/known_images/normal/normal_213.png\n",
      "/home/joshard/jupyter_env/files/deep_learn/deep_learning_project/known_images/normal/normal_210.png\n",
      "/home/joshard/jupyter_env/files/deep_learn/deep_learning_project/known_images/normal/normal_169.png\n",
      "/home/joshard/jupyter_env/files/deep_learn/deep_learning_project/known_images/normal/normal_253.png\n",
      "/home/joshard/jupyter_env/files/deep_learn/deep_learning_project/known_images/normal/normal_143.png\n",
      "/home/joshard/jupyter_env/files/deep_learn/deep_learning_project/known_images/normal/normal_271.png\n",
      "/home/joshard/jupyter_env/files/deep_learn/deep_learning_project/known_images/normal/normal_648.png\n",
      "/home/joshard/jupyter_env/files/deep_learn/deep_learning_project/known_images/normal/normal_155.png\n",
      "/home/joshard/jupyter_env/files/deep_learn/deep_learning_project/known_images/normal/normal_190.png\n",
      "/home/joshard/jupyter_env/files/deep_learn/deep_learning_project/known_images/normal/normal_173.png\n",
      "/home/joshard/jupyter_env/files/deep_learn/deep_learning_project/known_images/normal/normal_275.png\n",
      "/home/joshard/jupyter_env/files/deep_learn/deep_learning_project/known_images/normal/normal_135.png\n",
      "/home/joshard/jupyter_env/files/deep_learn/deep_learning_project/known_images/normal/normal_81.png\n",
      "/home/joshard/jupyter_env/files/deep_learn/deep_learning_project/known_images/normal/normal_272.png\n",
      "/home/joshard/jupyter_env/files/deep_learn/deep_learning_project/known_images/normal/normal_673.png\n",
      "/home/joshard/jupyter_env/files/deep_learn/deep_learning_project/known_images/normal/normal_255.png\n",
      "/home/joshard/jupyter_env/files/deep_learn/deep_learning_project/known_images/normal/normal_93.png\n",
      "/home/joshard/jupyter_env/files/deep_learn/deep_learning_project/known_images/normal/normal_98.png\n",
      "/home/joshard/jupyter_env/files/deep_learn/deep_learning_project/known_images/normal/normal_223.png\n",
      "/home/joshard/jupyter_env/files/deep_learn/deep_learning_project/known_images/normal/normal_196.png\n",
      "/home/joshard/jupyter_env/files/deep_learn/deep_learning_project/known_images/normal/normal_57.png\n",
      "/home/joshard/jupyter_env/files/deep_learn/deep_learning_project/known_images/normal/normal_338.png\n",
      "/home/joshard/jupyter_env/files/deep_learn/deep_learning_project/known_images/normal/normal_239.png\n",
      "/home/joshard/jupyter_env/files/deep_learn/deep_learning_project/known_images/normal/normal_117.png\n",
      "/home/joshard/jupyter_env/files/deep_learn/deep_learning_project/known_images/normal/normal_68.png\n",
      "/home/joshard/jupyter_env/files/deep_learn/deep_learning_project/known_images/normal/normal_343.png\n",
      "/home/joshard/jupyter_env/files/deep_learn/deep_learning_project/known_images/normal/normal_657.png\n",
      "/home/joshard/jupyter_env/files/deep_learn/deep_learning_project/known_images/normal/normal_43.png\n",
      "/home/joshard/jupyter_env/files/deep_learn/deep_learning_project/known_images/normal/normal_178.png\n",
      "/home/joshard/jupyter_env/files/deep_learn/deep_learning_project/known_images/normal/normal_281.png\n",
      "/home/joshard/jupyter_env/files/deep_learn/deep_learning_project/known_images/normal/normal_235.png\n",
      "/home/joshard/jupyter_env/files/deep_learn/deep_learning_project/known_images/normal/normal_280.png\n",
      "/home/joshard/jupyter_env/files/deep_learn/deep_learning_project/known_images/normal/normal_359.png\n",
      "/home/joshard/jupyter_env/files/deep_learn/deep_learning_project/known_images/normal/normal_44.png\n",
      "/home/joshard/jupyter_env/files/deep_learn/deep_learning_project/known_images/normal/normal_247.png\n",
      "/home/joshard/jupyter_env/files/deep_learn/deep_learning_project/known_images/normal/normal_259.png\n",
      "/home/joshard/jupyter_env/files/deep_learn/deep_learning_project/known_images/normal/normal_1.png\n",
      "/home/joshard/jupyter_env/files/deep_learn/deep_learning_project/known_images/normal/normal_286.png\n",
      "/home/joshard/jupyter_env/files/deep_learn/deep_learning_project/known_images/normal/normal_116.png\n",
      "/home/joshard/jupyter_env/files/deep_learn/deep_learning_project/known_images/normal/normal_136.png\n",
      "/home/joshard/jupyter_env/files/deep_learn/deep_learning_project/known_images/normal/normal_171.png\n",
      "/home/joshard/jupyter_env/files/deep_learn/deep_learning_project/known_images/normal/normal_277.png\n",
      "/home/joshard/jupyter_env/files/deep_learn/deep_learning_project/known_images/normal/normal_224.png\n",
      "/home/joshard/jupyter_env/files/deep_learn/deep_learning_project/known_images/normal/normal_70.png\n",
      "/home/joshard/jupyter_env/files/deep_learn/deep_learning_project/known_images/normal/normal_207.png\n",
      "/home/joshard/jupyter_env/files/deep_learn/deep_learning_project/known_images/normal/normal_139.png\n",
      "/home/joshard/jupyter_env/files/deep_learn/deep_learning_project/known_images/normal/normal_54.png\n",
      "/home/joshard/jupyter_env/files/deep_learn/deep_learning_project/known_images/normal/normal_118.png\n",
      "/home/joshard/jupyter_env/files/deep_learn/deep_learning_project/known_images/normal/normal_326.png\n",
      "/home/joshard/jupyter_env/files/deep_learn/deep_learning_project/known_images/normal/normal_304.png\n",
      "/home/joshard/jupyter_env/files/deep_learn/deep_learning_project/known_images/normal/normal_295.png\n",
      "/home/joshard/jupyter_env/files/deep_learn/deep_learning_project/known_images/normal/normal_49.png\n",
      "/home/joshard/jupyter_env/files/deep_learn/deep_learning_project/known_images/normal/normal_161.png\n",
      "/home/joshard/jupyter_env/files/deep_learn/deep_learning_project/known_images/normal/normal_65.png\n",
      "/home/joshard/jupyter_env/files/deep_learn/deep_learning_project/known_images/normal/normal_656.png\n",
      "/home/joshard/jupyter_env/files/deep_learn/deep_learning_project/known_images/normal/normal_162.png\n",
      "/home/joshard/jupyter_env/files/deep_learn/deep_learning_project/known_images/normal/normal_27.png\n",
      "/home/joshard/jupyter_env/files/deep_learn/deep_learning_project/known_images/normal/normal_222.png\n",
      "/home/joshard/jupyter_env/files/deep_learn/deep_learning_project/known_images/normal/normal_325.png\n",
      "/home/joshard/jupyter_env/files/deep_learn/deep_learning_project/known_images/normal/normal_330.png\n",
      "/home/joshard/jupyter_env/files/deep_learn/deep_learning_project/known_images/normal/normal_77.png\n",
      "/home/joshard/jupyter_env/files/deep_learn/deep_learning_project/known_images/normal/normal_212.png\n",
      "/home/joshard/jupyter_env/files/deep_learn/deep_learning_project/known_images/normal/normal_105.png\n",
      "/home/joshard/jupyter_env/files/deep_learn/deep_learning_project/known_images/normal/normal_110.png\n",
      "/home/joshard/jupyter_env/files/deep_learn/deep_learning_project/known_images/normal/normal_282.png\n",
      "/home/joshard/jupyter_env/files/deep_learn/deep_learning_project/known_images/normal/normal_125.png\n",
      "/home/joshard/jupyter_env/files/deep_learn/deep_learning_project/known_images/normal/normal_288.png\n",
      "/home/joshard/jupyter_env/files/deep_learn/deep_learning_project/known_images/normal/normal_311.png\n",
      "/home/joshard/jupyter_env/files/deep_learn/deep_learning_project/known_images/normal/normal_90.png\n",
      "/home/joshard/jupyter_env/files/deep_learn/deep_learning_project/known_images/normal/normal_7.png\n",
      "/home/joshard/jupyter_env/files/deep_learn/deep_learning_project/known_images/normal/normal_334.png\n",
      "/home/joshard/jupyter_env/files/deep_learn/deep_learning_project/known_images/normal/normal_228.png\n",
      "/home/joshard/jupyter_env/files/deep_learn/deep_learning_project/known_images/normal/normal_133.png\n",
      "/home/joshard/jupyter_env/files/deep_learn/deep_learning_project/known_images/normal/normal_2.png\n",
      "/home/joshard/jupyter_env/files/deep_learn/deep_learning_project/known_images/normal/normal_128.png\n",
      "/home/joshard/jupyter_env/files/deep_learn/deep_learning_project/known_images/normal/normal_192.png\n",
      "/home/joshard/jupyter_env/files/deep_learn/deep_learning_project/known_images/normal/normal_336.png\n",
      "/home/joshard/jupyter_env/files/deep_learn/deep_learning_project/known_images/normal/normal_191.png\n",
      "/home/joshard/jupyter_env/files/deep_learn/deep_learning_project/known_images/normal/normal_25.png\n",
      "/home/joshard/jupyter_env/files/deep_learn/deep_learning_project/known_images/normal/normal_132.png\n",
      "/home/joshard/jupyter_env/files/deep_learn/deep_learning_project/known_images/normal/normal_293.png\n",
      "/home/joshard/jupyter_env/files/deep_learn/deep_learning_project/known_images/normal/normal_240.png\n",
      "/home/joshard/jupyter_env/files/deep_learn/deep_learning_project/known_images/normal/normal_230.png\n",
      "/home/joshard/jupyter_env/files/deep_learn/deep_learning_project/known_images/normal/normal_292.png\n",
      "/home/joshard/jupyter_env/files/deep_learn/deep_learning_project/known_images/normal/normal_229.png\n",
      "/home/joshard/jupyter_env/files/deep_learn/deep_learning_project/known_images/normal/normal_348.png\n",
      "/home/joshard/jupyter_env/files/deep_learn/deep_learning_project/known_images/normal/normal_351.png\n",
      "/home/joshard/jupyter_env/files/deep_learn/deep_learning_project/known_images/normal/normal_265.png\n",
      "/home/joshard/jupyter_env/files/deep_learn/deep_learning_project/known_images/sick/sick_37.png\n",
      "/home/joshard/jupyter_env/files/deep_learn/deep_learning_project/known_images/sick/sick_39.png\n",
      "/home/joshard/jupyter_env/files/deep_learn/deep_learning_project/known_images/sick/sick_320.png\n",
      "/home/joshard/jupyter_env/files/deep_learn/deep_learning_project/known_images/sick/sick_128.png\n",
      "/home/joshard/jupyter_env/files/deep_learn/deep_learning_project/known_images/sick/sick_306.png\n",
      "/home/joshard/jupyter_env/files/deep_learn/deep_learning_project/known_images/sick/sick_353.png\n",
      "/home/joshard/jupyter_env/files/deep_learn/deep_learning_project/known_images/sick/sick_234.png\n",
      "/home/joshard/jupyter_env/files/deep_learn/deep_learning_project/known_images/sick/sick_372.png\n",
      "/home/joshard/jupyter_env/files/deep_learn/deep_learning_project/known_images/sick/sick_220.png\n",
      "/home/joshard/jupyter_env/files/deep_learn/deep_learning_project/known_images/sick/sick_233.png\n",
      "/home/joshard/jupyter_env/files/deep_learn/deep_learning_project/known_images/sick/sick_290.png\n",
      "/home/joshard/jupyter_env/files/deep_learn/deep_learning_project/known_images/sick/sick_30.png\n",
      "/home/joshard/jupyter_env/files/deep_learn/deep_learning_project/known_images/sick/sick_321.png\n",
      "/home/joshard/jupyter_env/files/deep_learn/deep_learning_project/known_images/sick/sick_145.png\n",
      "/home/joshard/jupyter_env/files/deep_learn/deep_learning_project/known_images/sick/sick_84.png\n",
      "/home/joshard/jupyter_env/files/deep_learn/deep_learning_project/known_images/sick/sick_181.png\n",
      "/home/joshard/jupyter_env/files/deep_learn/deep_learning_project/known_images/sick/sick_63.png\n",
      "/home/joshard/jupyter_env/files/deep_learn/deep_learning_project/known_images/sick/sick_318.png\n",
      "/home/joshard/jupyter_env/files/deep_learn/deep_learning_project/known_images/sick/sick_282.png\n",
      "/home/joshard/jupyter_env/files/deep_learn/deep_learning_project/known_images/sick/sick_339.png\n",
      "/home/joshard/jupyter_env/files/deep_learn/deep_learning_project/known_images/sick/sick_331.png\n",
      "/home/joshard/jupyter_env/files/deep_learn/deep_learning_project/known_images/sick/sick_14.png\n",
      "/home/joshard/jupyter_env/files/deep_learn/deep_learning_project/known_images/sick/sick_319.png\n",
      "/home/joshard/jupyter_env/files/deep_learn/deep_learning_project/known_images/sick/sick_201.png\n",
      "/home/joshard/jupyter_env/files/deep_learn/deep_learning_project/known_images/sick/sick_204.png\n",
      "/home/joshard/jupyter_env/files/deep_learn/deep_learning_project/known_images/sick/sick_138.png\n",
      "/home/joshard/jupyter_env/files/deep_learn/deep_learning_project/known_images/sick/sick_294.png\n",
      "/home/joshard/jupyter_env/files/deep_learn/deep_learning_project/known_images/sick/sick_41.png\n",
      "/home/joshard/jupyter_env/files/deep_learn/deep_learning_project/known_images/sick/sick_288.png\n",
      "/home/joshard/jupyter_env/files/deep_learn/deep_learning_project/known_images/sick/sick_56.png\n",
      "/home/joshard/jupyter_env/files/deep_learn/deep_learning_project/known_images/sick/sick_289.png\n",
      "/home/joshard/jupyter_env/files/deep_learn/deep_learning_project/known_images/sick/sick_115.png\n",
      "/home/joshard/jupyter_env/files/deep_learn/deep_learning_project/known_images/sick/sick_26.png\n",
      "/home/joshard/jupyter_env/files/deep_learn/deep_learning_project/known_images/sick/sick_64.png\n",
      "/home/joshard/jupyter_env/files/deep_learn/deep_learning_project/known_images/sick/sick_350.png\n",
      "/home/joshard/jupyter_env/files/deep_learn/deep_learning_project/known_images/sick/sick_195.png\n",
      "/home/joshard/jupyter_env/files/deep_learn/deep_learning_project/known_images/sick/sick_293.png\n",
      "/home/joshard/jupyter_env/files/deep_learn/deep_learning_project/known_images/sick/sick_73.png\n",
      "/home/joshard/jupyter_env/files/deep_learn/deep_learning_project/known_images/sick/sick_368.png\n",
      "/home/joshard/jupyter_env/files/deep_learn/deep_learning_project/known_images/sick/sick_23.png\n",
      "/home/joshard/jupyter_env/files/deep_learn/deep_learning_project/known_images/sick/sick_369.png\n",
      "/home/joshard/jupyter_env/files/deep_learn/deep_learning_project/known_images/sick/sick_276.png\n",
      "/home/joshard/jupyter_env/files/deep_learn/deep_learning_project/known_images/sick/sick_338.png\n",
      "/home/joshard/jupyter_env/files/deep_learn/deep_learning_project/known_images/sick/sick_278.png\n",
      "/home/joshard/jupyter_env/files/deep_learn/deep_learning_project/known_images/sick/sick_343.png\n",
      "/home/joshard/jupyter_env/files/deep_learn/deep_learning_project/known_images/sick/sick_317.png\n",
      "/home/joshard/jupyter_env/files/deep_learn/deep_learning_project/known_images/sick/sick_347.png\n",
      "/home/joshard/jupyter_env/files/deep_learn/deep_learning_project/known_images/sick/sick_75.png\n",
      "/home/joshard/jupyter_env/files/deep_learn/deep_learning_project/known_images/sick/sick_129.png\n",
      "/home/joshard/jupyter_env/files/deep_learn/deep_learning_project/known_images/sick/sick_110.png\n",
      "/home/joshard/jupyter_env/files/deep_learn/deep_learning_project/known_images/sick/sick_284.png\n",
      "/home/joshard/jupyter_env/files/deep_learn/deep_learning_project/known_images/sick/sick_99.png\n",
      "/home/joshard/jupyter_env/files/deep_learn/deep_learning_project/known_images/sick/sick_3.png\n",
      "/home/joshard/jupyter_env/files/deep_learn/deep_learning_project/known_images/sick/sick_58.png\n",
      "/home/joshard/jupyter_env/files/deep_learn/deep_learning_project/known_images/sick/sick_78.png\n",
      "/home/joshard/jupyter_env/files/deep_learn/deep_learning_project/known_images/sick/sick_148.png\n",
      "/home/joshard/jupyter_env/files/deep_learn/deep_learning_project/known_images/sick/sick_150.png\n",
      "/home/joshard/jupyter_env/files/deep_learn/deep_learning_project/known_images/sick/sick_12.png\n",
      "/home/joshard/jupyter_env/files/deep_learn/deep_learning_project/known_images/sick/sick_52.png\n",
      "/home/joshard/jupyter_env/files/deep_learn/deep_learning_project/known_images/sick/sick_198.png\n",
      "/home/joshard/jupyter_env/files/deep_learn/deep_learning_project/known_images/sick/sick_89.png\n",
      "/home/joshard/jupyter_env/files/deep_learn/deep_learning_project/known_images/sick/sick_121.png\n",
      "/home/joshard/jupyter_env/files/deep_learn/deep_learning_project/known_images/sick/sick_190.png\n",
      "/home/joshard/jupyter_env/files/deep_learn/deep_learning_project/known_images/sick/sick_66.png\n",
      "/home/joshard/jupyter_env/files/deep_learn/deep_learning_project/known_images/sick/sick_86.png\n",
      "/home/joshard/jupyter_env/files/deep_learn/deep_learning_project/known_images/sick/sick_251.png\n",
      "/home/joshard/jupyter_env/files/deep_learn/deep_learning_project/known_images/sick/sick_203.png\n",
      "/home/joshard/jupyter_env/files/deep_learn/deep_learning_project/known_images/sick/sick_250.png\n",
      "/home/joshard/jupyter_env/files/deep_learn/deep_learning_project/known_images/sick/sick_29.png\n",
      "/home/joshard/jupyter_env/files/deep_learn/deep_learning_project/known_images/sick/sick_168.png\n",
      "/home/joshard/jupyter_env/files/deep_learn/deep_learning_project/known_images/sick/sick_335.png\n",
      "/home/joshard/jupyter_env/files/deep_learn/deep_learning_project/known_images/sick/sick_118.png\n",
      "/home/joshard/jupyter_env/files/deep_learn/deep_learning_project/known_images/sick/sick_98.png\n",
      "/home/joshard/jupyter_env/files/deep_learn/deep_learning_project/known_images/sick/sick_297.png\n",
      "/home/joshard/jupyter_env/files/deep_learn/deep_learning_project/known_images/sick/sick_170.png\n",
      "/home/joshard/jupyter_env/files/deep_learn/deep_learning_project/known_images/sick/sick_345.png\n",
      "/home/joshard/jupyter_env/files/deep_learn/deep_learning_project/known_images/sick/sick_248.png\n",
      "/home/joshard/jupyter_env/files/deep_learn/deep_learning_project/known_images/sick/sick_101.png\n",
      "/home/joshard/jupyter_env/files/deep_learn/deep_learning_project/known_images/sick/sick_13.png\n",
      "/home/joshard/jupyter_env/files/deep_learn/deep_learning_project/known_images/sick/sick_279.png\n",
      "/home/joshard/jupyter_env/files/deep_learn/deep_learning_project/known_images/sick/sick_151.png\n",
      "/home/joshard/jupyter_env/files/deep_learn/deep_learning_project/known_images/sick/sick_97.png\n",
      "/home/joshard/jupyter_env/files/deep_learn/deep_learning_project/known_images/sick/sick_299.png\n",
      "/home/joshard/jupyter_env/files/deep_learn/deep_learning_project/known_images/sick/sick_10.png\n",
      "/home/joshard/jupyter_env/files/deep_learn/deep_learning_project/known_images/sick/sick_364.png\n",
      "/home/joshard/jupyter_env/files/deep_learn/deep_learning_project/known_images/sick/sick_287.png\n",
      "/home/joshard/jupyter_env/files/deep_learn/deep_learning_project/known_images/sick/sick_27.png\n",
      "/home/joshard/jupyter_env/files/deep_learn/deep_learning_project/known_images/sick/sick_245.png\n",
      "/home/joshard/jupyter_env/files/deep_learn/deep_learning_project/known_images/sick/sick_19.png\n",
      "/home/joshard/jupyter_env/files/deep_learn/deep_learning_project/known_images/sick/sick_330.png\n",
      "/home/joshard/jupyter_env/files/deep_learn/deep_learning_project/known_images/sick/sick_167.png\n",
      "/home/joshard/jupyter_env/files/deep_learn/deep_learning_project/known_images/sick/sick_59.png\n",
      "/home/joshard/jupyter_env/files/deep_learn/deep_learning_project/known_images/sick/sick_342.png\n",
      "/home/joshard/jupyter_env/files/deep_learn/deep_learning_project/known_images/sick/sick_209.png\n",
      "/home/joshard/jupyter_env/files/deep_learn/deep_learning_project/known_images/sick/sick_305.png\n",
      "/home/joshard/jupyter_env/files/deep_learn/deep_learning_project/known_images/sick/sick_371.png\n",
      "/home/joshard/jupyter_env/files/deep_learn/deep_learning_project/known_images/sick/sick_40.png\n",
      "/home/joshard/jupyter_env/files/deep_learn/deep_learning_project/known_images/sick/sick_357.png\n",
      "/home/joshard/jupyter_env/files/deep_learn/deep_learning_project/known_images/sick/sick_275.png\n",
      "/home/joshard/jupyter_env/files/deep_learn/deep_learning_project/known_images/sick/sick_309.png\n",
      "/home/joshard/jupyter_env/files/deep_learn/deep_learning_project/known_images/sick/sick_177.png\n",
      "/home/joshard/jupyter_env/files/deep_learn/deep_learning_project/known_images/sick/sick_348.png\n",
      "/home/joshard/jupyter_env/files/deep_learn/deep_learning_project/known_images/sick/sick_96.png\n",
      "/home/joshard/jupyter_env/files/deep_learn/deep_learning_project/known_images/sick/sick_88.png\n",
      "/home/joshard/jupyter_env/files/deep_learn/deep_learning_project/known_images/sick/sick_222.png\n",
      "/home/joshard/jupyter_env/files/deep_learn/deep_learning_project/known_images/sick/sick_79.png\n",
      "/home/joshard/jupyter_env/files/deep_learn/deep_learning_project/known_images/sick/sick_323.png\n",
      "/home/joshard/jupyter_env/files/deep_learn/deep_learning_project/known_images/sick/sick_76.png\n",
      "/home/joshard/jupyter_env/files/deep_learn/deep_learning_project/known_images/sick/sick_171.png\n",
      "/home/joshard/jupyter_env/files/deep_learn/deep_learning_project/known_images/sick/sick_344.png\n",
      "/home/joshard/jupyter_env/files/deep_learn/deep_learning_project/known_images/sick/sick_375.png\n",
      "/home/joshard/jupyter_env/files/deep_learn/deep_learning_project/known_images/sick/sick_261.png\n",
      "/home/joshard/jupyter_env/files/deep_learn/deep_learning_project/known_images/sick/sick_255.png\n",
      "/home/joshard/jupyter_env/files/deep_learn/deep_learning_project/known_images/sick/sick_328.png\n",
      "/home/joshard/jupyter_env/files/deep_learn/deep_learning_project/known_images/sick/sick_5.png\n",
      "/home/joshard/jupyter_env/files/deep_learn/deep_learning_project/known_images/sick/sick_6.png\n",
      "/home/joshard/jupyter_env/files/deep_learn/deep_learning_project/known_images/sick/sick_359.png\n",
      "/home/joshard/jupyter_env/files/deep_learn/deep_learning_project/known_images/sick/sick_48.png\n",
      "/home/joshard/jupyter_env/files/deep_learn/deep_learning_project/known_images/sick/sick_352.png\n",
      "/home/joshard/jupyter_env/files/deep_learn/deep_learning_project/known_images/sick/sick_60.png\n",
      "/home/joshard/jupyter_env/files/deep_learn/deep_learning_project/known_images/sick/sick_113.png\n",
      "/home/joshard/jupyter_env/files/deep_learn/deep_learning_project/known_images/sick/sick_360.png\n",
      "/home/joshard/jupyter_env/files/deep_learn/deep_learning_project/known_images/sick/sick_42.png\n",
      "/home/joshard/jupyter_env/files/deep_learn/deep_learning_project/known_images/sick/sick_186.png\n",
      "/home/joshard/jupyter_env/files/deep_learn/deep_learning_project/known_images/sick/sick_160.png\n",
      "/home/joshard/jupyter_env/files/deep_learn/deep_learning_project/known_images/sick/sick_132.png\n",
      "/home/joshard/jupyter_env/files/deep_learn/deep_learning_project/known_images/sick/sick_366.png\n",
      "/home/joshard/jupyter_env/files/deep_learn/deep_learning_project/known_images/sick/sick_180.png\n",
      "/home/joshard/jupyter_env/files/deep_learn/deep_learning_project/known_images/sick/sick_213.png\n",
      "/home/joshard/jupyter_env/files/deep_learn/deep_learning_project/known_images/sick/sick_81.png\n",
      "/home/joshard/jupyter_env/files/deep_learn/deep_learning_project/known_images/sick/sick_143.png\n",
      "/home/joshard/jupyter_env/files/deep_learn/deep_learning_project/known_images/sick/sick_155.png\n",
      "/home/joshard/jupyter_env/files/deep_learn/deep_learning_project/known_images/sick/sick_208.png\n",
      "/home/joshard/jupyter_env/files/deep_learn/deep_learning_project/known_images/sick/sick_244.png\n",
      "/home/joshard/jupyter_env/files/deep_learn/deep_learning_project/known_images/sick/sick_300.png\n",
      "/home/joshard/jupyter_env/files/deep_learn/deep_learning_project/known_images/sick/sick_199.png\n",
      "/home/joshard/jupyter_env/files/deep_learn/deep_learning_project/known_images/sick/sick_253.png\n",
      "/home/joshard/jupyter_env/files/deep_learn/deep_learning_project/known_images/sick/sick_142.png\n",
      "/home/joshard/jupyter_env/files/deep_learn/deep_learning_project/known_images/sick/sick_94.png\n",
      "/home/joshard/jupyter_env/files/deep_learn/deep_learning_project/known_images/sick/sick_273.png\n",
      "/home/joshard/jupyter_env/files/deep_learn/deep_learning_project/known_images/sick/sick_44.png\n",
      "/home/joshard/jupyter_env/files/deep_learn/deep_learning_project/known_images/sick/sick_21.png\n",
      "/home/joshard/jupyter_env/files/deep_learn/deep_learning_project/known_images/sick/sick_268.png\n",
      "/home/joshard/jupyter_env/files/deep_learn/deep_learning_project/known_images/sick/sick_324.png\n",
      "/home/joshard/jupyter_env/files/deep_learn/deep_learning_project/known_images/sick/sick_105.png\n",
      "/home/joshard/jupyter_env/files/deep_learn/deep_learning_project/known_images/sick/sick_158.png\n",
      "/home/joshard/jupyter_env/files/deep_learn/deep_learning_project/known_images/sick/sick_285.png\n",
      "/home/joshard/jupyter_env/files/deep_learn/deep_learning_project/known_images/sick/sick_223.png\n",
      "/home/joshard/jupyter_env/files/deep_learn/deep_learning_project/known_images/sick/sick_69.png\n",
      "/home/joshard/jupyter_env/files/deep_learn/deep_learning_project/known_images/sick/sick_267.png\n",
      "/home/joshard/jupyter_env/files/deep_learn/deep_learning_project/known_images/sick/sick_1.png\n",
      "/home/joshard/jupyter_env/files/deep_learn/deep_learning_project/known_images/sick/sick_22.png\n",
      "/home/joshard/jupyter_env/files/deep_learn/deep_learning_project/known_images/sick/sick_49.png\n",
      "/home/joshard/jupyter_env/files/deep_learn/deep_learning_project/known_images/sick/sick_90.png\n",
      "/home/joshard/jupyter_env/files/deep_learn/deep_learning_project/known_images/sick/sick_169.png\n",
      "/home/joshard/jupyter_env/files/deep_learn/deep_learning_project/known_images/sick/sick_249.png\n",
      "/home/joshard/jupyter_env/files/deep_learn/deep_learning_project/known_images/sick/sick_296.png\n",
      "/home/joshard/jupyter_env/files/deep_learn/deep_learning_project/known_images/sick/sick_20.png\n",
      "/home/joshard/jupyter_env/files/deep_learn/deep_learning_project/known_images/sick/sick_334.png\n",
      "/home/joshard/jupyter_env/files/deep_learn/deep_learning_project/known_images/sick/sick_252.png\n",
      "/home/joshard/jupyter_env/files/deep_learn/deep_learning_project/known_images/sick/sick_0.png\n",
      "/home/joshard/jupyter_env/files/deep_learn/deep_learning_project/known_images/sick/sick_187.png\n",
      "/home/joshard/jupyter_env/files/deep_learn/deep_learning_project/known_images/sick/sick_304.png\n",
      "/home/joshard/jupyter_env/files/deep_learn/deep_learning_project/known_images/sick/sick_57.png\n",
      "/home/joshard/jupyter_env/files/deep_learn/deep_learning_project/known_images/sick/sick_179.png\n",
      "/home/joshard/jupyter_env/files/deep_learn/deep_learning_project/known_images/sick/sick_315.png\n",
      "/home/joshard/jupyter_env/files/deep_learn/deep_learning_project/known_images/sick/sick_207.png\n",
      "/home/joshard/jupyter_env/files/deep_learn/deep_learning_project/known_images/sick/sick_247.png\n",
      "/home/joshard/jupyter_env/files/deep_learn/deep_learning_project/known_images/sick/sick_38.png\n",
      "/home/joshard/jupyter_env/files/deep_learn/deep_learning_project/known_images/sick/sick_286.png\n",
      "/home/joshard/jupyter_env/files/deep_learn/deep_learning_project/known_images/sick/sick_35.png\n",
      "/home/joshard/jupyter_env/files/deep_learn/deep_learning_project/known_images/sick/sick_229.png\n",
      "/home/joshard/jupyter_env/files/deep_learn/deep_learning_project/known_images/sick/sick_15.png\n",
      "/home/joshard/jupyter_env/files/deep_learn/deep_learning_project/known_images/sick/sick_298.png\n",
      "/home/joshard/jupyter_env/files/deep_learn/deep_learning_project/known_images/sick/sick_131.png\n",
      "/home/joshard/jupyter_env/files/deep_learn/deep_learning_project/known_images/sick/sick_188.png\n",
      "/home/joshard/jupyter_env/files/deep_learn/deep_learning_project/known_images/sick/sick_108.png\n",
      "/home/joshard/jupyter_env/files/deep_learn/deep_learning_project/known_images/sick/sick_238.png\n",
      "/home/joshard/jupyter_env/files/deep_learn/deep_learning_project/known_images/sick/sick_65.png\n",
      "/home/joshard/jupyter_env/files/deep_learn/deep_learning_project/known_images/sick/sick_200.png\n",
      "/home/joshard/jupyter_env/files/deep_learn/deep_learning_project/known_images/sick/sick_137.png\n",
      "/home/joshard/jupyter_env/files/deep_learn/deep_learning_project/known_images/sick/sick_373.png\n",
      "/home/joshard/jupyter_env/files/deep_learn/deep_learning_project/known_images/sick/sick_133.png\n",
      "/home/joshard/jupyter_env/files/deep_learn/deep_learning_project/known_images/sick/sick_102.png\n",
      "/home/joshard/jupyter_env/files/deep_learn/deep_learning_project/known_images/sick/sick_265.png\n",
      "/home/joshard/jupyter_env/files/deep_learn/deep_learning_project/known_images/sick/sick_77.png\n",
      "/home/joshard/jupyter_env/files/deep_learn/deep_learning_project/known_images/sick/sick_215.png\n",
      "/home/joshard/jupyter_env/files/deep_learn/deep_learning_project/known_images/sick/sick_53.png\n",
      "/home/joshard/jupyter_env/files/deep_learn/deep_learning_project/known_images/sick/sick_31.png\n",
      "/home/joshard/jupyter_env/files/deep_learn/deep_learning_project/known_images/sick/sick_361.png\n",
      "/home/joshard/jupyter_env/files/deep_learn/deep_learning_project/known_images/sick/sick_74.png\n",
      "/home/joshard/jupyter_env/files/deep_learn/deep_learning_project/known_images/sick/sick_46.png\n",
      "/home/joshard/jupyter_env/files/deep_learn/deep_learning_project/known_images/sick/sick_50.png\n",
      "/home/joshard/jupyter_env/files/deep_learn/deep_learning_project/known_images/sick/sick_68.png\n",
      "/home/joshard/jupyter_env/files/deep_learn/deep_learning_project/known_images/sick/sick_156.png\n",
      "/home/joshard/jupyter_env/files/deep_learn/deep_learning_project/known_images/sick/sick_362.png\n",
      "/home/joshard/jupyter_env/files/deep_learn/deep_learning_project/known_images/sick/sick_197.png\n",
      "/home/joshard/jupyter_env/files/deep_learn/deep_learning_project/known_images/sick/sick_4.png\n",
      "/home/joshard/jupyter_env/files/deep_learn/deep_learning_project/known_images/sick/sick_92.png\n",
      "/home/joshard/jupyter_env/files/deep_learn/deep_learning_project/known_images/sick/sick_174.png\n",
      "/home/joshard/jupyter_env/files/deep_learn/deep_learning_project/known_images/sick/sick_134.png\n",
      "/home/joshard/jupyter_env/files/deep_learn/deep_learning_project/known_images/sick/sick_224.png\n",
      "/home/joshard/jupyter_env/files/deep_learn/deep_learning_project/known_images/sick/sick_219.png\n",
      "/home/joshard/jupyter_env/files/deep_learn/deep_learning_project/known_images/sick/sick_349.png\n",
      "/home/joshard/jupyter_env/files/deep_learn/deep_learning_project/known_images/sick/sick_106.png\n",
      "/home/joshard/jupyter_env/files/deep_learn/deep_learning_project/known_images/sick/sick_337.png\n",
      "/home/joshard/jupyter_env/files/deep_learn/deep_learning_project/known_images/sick/sick_28.png\n",
      "/home/joshard/jupyter_env/files/deep_learn/deep_learning_project/known_images/sick/sick_61.png\n",
      "/home/joshard/jupyter_env/files/deep_learn/deep_learning_project/known_images/sick/sick_211.png\n",
      "/home/joshard/jupyter_env/files/deep_learn/deep_learning_project/known_images/sick/sick_355.png\n",
      "/home/joshard/jupyter_env/files/deep_learn/deep_learning_project/known_images/sick/sick_54.png\n",
      "/home/joshard/jupyter_env/files/deep_learn/deep_learning_project/known_images/sick/sick_127.png\n",
      "/home/joshard/jupyter_env/files/deep_learn/deep_learning_project/known_images/sick/sick_312.png\n",
      "/home/joshard/jupyter_env/files/deep_learn/deep_learning_project/known_images/sick/sick_47.png\n",
      "/home/joshard/jupyter_env/files/deep_learn/deep_learning_project/known_images/sick/sick_164.png\n",
      "/home/joshard/jupyter_env/files/deep_learn/deep_learning_project/known_images/sick/sick_314.png\n",
      "/home/joshard/jupyter_env/files/deep_learn/deep_learning_project/known_images/sick/sick_260.png\n",
      "/home/joshard/jupyter_env/files/deep_learn/deep_learning_project/known_images/sick/sick_124.png\n",
      "/home/joshard/jupyter_env/files/deep_learn/deep_learning_project/known_images/sick/sick_176.png\n",
      "/home/joshard/jupyter_env/files/deep_learn/deep_learning_project/known_images/sick/sick_9.png\n",
      "/home/joshard/jupyter_env/files/deep_learn/deep_learning_project/known_images/sick/sick_307.png\n",
      "/home/joshard/jupyter_env/files/deep_learn/deep_learning_project/known_images/sick/sick_153.png\n",
      "/home/joshard/jupyter_env/files/deep_learn/deep_learning_project/known_images/sick/sick_178.png\n",
      "/home/joshard/jupyter_env/files/deep_learn/deep_learning_project/known_images/sick/sick_270.png\n",
      "/home/joshard/jupyter_env/files/deep_learn/deep_learning_project/known_images/sick/sick_269.png\n",
      "/home/joshard/jupyter_env/files/deep_learn/deep_learning_project/known_images/sick/sick_191.png\n",
      "/home/joshard/jupyter_env/files/deep_learn/deep_learning_project/known_images/sick/sick_370.png\n",
      "/home/joshard/jupyter_env/files/deep_learn/deep_learning_project/known_images/sick/sick_254.png\n",
      "/home/joshard/jupyter_env/files/deep_learn/deep_learning_project/known_images/sick/sick_365.png\n",
      "/home/joshard/jupyter_env/files/deep_learn/deep_learning_project/known_images/sick/sick_216.png\n",
      "/home/joshard/jupyter_env/files/deep_learn/deep_learning_project/known_images/sick/sick_8.png\n",
      "/home/joshard/jupyter_env/files/deep_learn/deep_learning_project/known_images/sick/sick_336.png\n",
      "/home/joshard/jupyter_env/files/deep_learn/deep_learning_project/known_images/sick/sick_149.png\n",
      "/home/joshard/jupyter_env/files/deep_learn/deep_learning_project/known_images/sick/sick_193.png\n",
      "/home/joshard/jupyter_env/files/deep_learn/deep_learning_project/known_images/sick/sick_236.png\n",
      "/home/joshard/jupyter_env/files/deep_learn/deep_learning_project/known_images/sick/sick_116.png\n",
      "/home/joshard/jupyter_env/files/deep_learn/deep_learning_project/known_images/sick/sick_140.png\n",
      "/home/joshard/jupyter_env/files/deep_learn/deep_learning_project/known_images/sick/sick_135.png\n",
      "/home/joshard/jupyter_env/files/deep_learn/deep_learning_project/known_images/sick/sick_93.png\n",
      "/home/joshard/jupyter_env/files/deep_learn/deep_learning_project/known_images/sick/sick_292.png\n",
      "/home/joshard/jupyter_env/files/deep_learn/deep_learning_project/known_images/sick/sick_139.png\n",
      "/home/joshard/jupyter_env/files/deep_learn/deep_learning_project/known_images/sick/sick_212.png\n",
      "/home/joshard/jupyter_env/files/deep_learn/deep_learning_project/known_images/sick/sick_166.png\n",
      "/home/joshard/jupyter_env/files/deep_learn/deep_learning_project/known_images/sick/sick_281.png\n",
      "/home/joshard/jupyter_env/files/deep_learn/deep_learning_project/known_images/sick/sick_363.png\n",
      "/home/joshard/jupyter_env/files/deep_learn/deep_learning_project/known_images/sick/sick_172.png\n",
      "/home/joshard/jupyter_env/files/deep_learn/deep_learning_project/known_images/sick/sick_146.png\n",
      "/home/joshard/jupyter_env/files/deep_learn/deep_learning_project/known_images/sick/sick_70.png\n",
      "/home/joshard/jupyter_env/files/deep_learn/deep_learning_project/known_images/sick/sick_262.png\n",
      "/home/joshard/jupyter_env/files/deep_learn/deep_learning_project/known_images/sick/sick_327.png\n",
      "/home/joshard/jupyter_env/files/deep_learn/deep_learning_project/known_images/sick/sick_326.png\n",
      "/home/joshard/jupyter_env/files/deep_learn/deep_learning_project/known_images/sick/sick_202.png\n",
      "/home/joshard/jupyter_env/files/deep_learn/deep_learning_project/known_images/sick/sick_356.png\n",
      "/home/joshard/jupyter_env/files/deep_learn/deep_learning_project/known_images/sick/sick_55.png\n",
      "/home/joshard/jupyter_env/files/deep_learn/deep_learning_project/known_images/sick/sick_192.png\n",
      "/home/joshard/jupyter_env/files/deep_learn/deep_learning_project/known_images/sick/sick_280.png\n",
      "/home/joshard/jupyter_env/files/deep_learn/deep_learning_project/known_images/sick/sick_125.png\n",
      "/home/joshard/jupyter_env/files/deep_learn/deep_learning_project/known_images/sick/sick_354.png\n",
      "/home/joshard/jupyter_env/files/deep_learn/deep_learning_project/known_images/sick/sick_242.png\n",
      "/home/joshard/jupyter_env/files/deep_learn/deep_learning_project/known_images/sick/sick_82.png\n",
      "/home/joshard/jupyter_env/files/deep_learn/deep_learning_project/known_images/sick/sick_130.png\n",
      "/home/joshard/jupyter_env/files/deep_learn/deep_learning_project/known_images/sick/sick_311.png\n",
      "/home/joshard/jupyter_env/files/deep_learn/deep_learning_project/known_images/sick/sick_126.png\n",
      "/home/joshard/jupyter_env/files/deep_learn/deep_learning_project/known_images/sick/sick_154.png\n",
      "/home/joshard/jupyter_env/files/deep_learn/deep_learning_project/known_images/sick/sick_123.png\n",
      "/home/joshard/jupyter_env/files/deep_learn/deep_learning_project/known_images/sick/sick_107.png\n",
      "/home/joshard/jupyter_env/files/deep_learn/deep_learning_project/known_images/sick/sick_258.png\n",
      "/home/joshard/jupyter_env/files/deep_learn/deep_learning_project/known_images/sick/sick_152.png\n",
      "/home/joshard/jupyter_env/files/deep_learn/deep_learning_project/known_images/sick/sick_302.png\n",
      "/home/joshard/jupyter_env/files/deep_learn/deep_learning_project/known_images/sick/sick_189.png\n",
      "/home/joshard/jupyter_env/files/deep_learn/deep_learning_project/known_images/sick/sick_120.png\n",
      "/home/joshard/jupyter_env/files/deep_learn/deep_learning_project/known_images/sick/sick_159.png\n",
      "/home/joshard/jupyter_env/files/deep_learn/deep_learning_project/known_images/sick/sick_100.png\n",
      "/home/joshard/jupyter_env/files/deep_learn/deep_learning_project/known_images/sick/sick_291.png\n",
      "/home/joshard/jupyter_env/files/deep_learn/deep_learning_project/known_images/sick/sick_322.png\n",
      "/home/joshard/jupyter_env/files/deep_learn/deep_learning_project/known_images/sick/sick_62.png\n",
      "/home/joshard/jupyter_env/files/deep_learn/deep_learning_project/known_images/sick/sick_161.png\n",
      "/home/joshard/jupyter_env/files/deep_learn/deep_learning_project/known_images/sick/sick_205.png\n",
      "/home/joshard/jupyter_env/files/deep_learn/deep_learning_project/known_images/sick/sick_11.png\n",
      "/home/joshard/jupyter_env/files/deep_learn/deep_learning_project/known_images/sick/sick_34.png\n",
      "/home/joshard/jupyter_env/files/deep_learn/deep_learning_project/known_images/sick/sick_263.png\n",
      "/home/joshard/jupyter_env/files/deep_learn/deep_learning_project/known_images/sick/sick_162.png\n",
      "/home/joshard/jupyter_env/files/deep_learn/deep_learning_project/known_images/sick/sick_231.png\n",
      "/home/joshard/jupyter_env/files/deep_learn/deep_learning_project/known_images/sick/sick_16.png\n",
      "/home/joshard/jupyter_env/files/deep_learn/deep_learning_project/known_images/sick/sick_272.png\n",
      "/home/joshard/jupyter_env/files/deep_learn/deep_learning_project/known_images/sick/sick_103.png\n",
      "/home/joshard/jupyter_env/files/deep_learn/deep_learning_project/known_images/sick/sick_235.png\n",
      "/home/joshard/jupyter_env/files/deep_learn/deep_learning_project/known_images/sick/sick_333.png\n",
      "/home/joshard/jupyter_env/files/deep_learn/deep_learning_project/known_images/sick/sick_316.png\n",
      "/home/joshard/jupyter_env/files/deep_learn/deep_learning_project/known_images/sick/sick_246.png\n",
      "/home/joshard/jupyter_env/files/deep_learn/deep_learning_project/known_images/sick/sick_196.png\n",
      "/home/joshard/jupyter_env/files/deep_learn/deep_learning_project/known_images/sick/sick_173.png\n",
      "/home/joshard/jupyter_env/files/deep_learn/deep_learning_project/known_images/sick/sick_303.png\n",
      "/home/joshard/jupyter_env/files/deep_learn/deep_learning_project/known_images/sick/sick_283.png\n",
      "/home/joshard/jupyter_env/files/deep_learn/deep_learning_project/known_images/sick/sick_45.png\n",
      "/home/joshard/jupyter_env/files/deep_learn/deep_learning_project/known_images/sick/sick_147.png\n",
      "/home/joshard/jupyter_env/files/deep_learn/deep_learning_project/known_images/sick/sick_259.png\n",
      "/home/joshard/jupyter_env/files/deep_learn/deep_learning_project/known_images/sick/sick_91.png\n",
      "/home/joshard/jupyter_env/files/deep_learn/deep_learning_project/known_images/sick/sick_157.png\n",
      "/home/joshard/jupyter_env/files/deep_learn/deep_learning_project/known_images/sick/sick_325.png\n",
      "/home/joshard/jupyter_env/files/deep_learn/deep_learning_project/known_images/sick/sick_32.png\n",
      "/home/joshard/jupyter_env/files/deep_learn/deep_learning_project/known_images/sick/sick_183.png\n",
      "/home/joshard/jupyter_env/files/deep_learn/deep_learning_project/known_images/sick/sick_184.png\n",
      "/home/joshard/jupyter_env/files/deep_learn/deep_learning_project/known_images/sick/sick_36.png\n",
      "/home/joshard/jupyter_env/files/deep_learn/deep_learning_project/known_images/sick/sick_243.png\n",
      "/home/joshard/jupyter_env/files/deep_learn/deep_learning_project/known_images/sick/sick_308.png\n",
      "/home/joshard/jupyter_env/files/deep_learn/deep_learning_project/known_images/sick/sick_185.png\n",
      "/home/joshard/jupyter_env/files/deep_learn/deep_learning_project/known_images/sick/sick_85.png\n",
      "/home/joshard/jupyter_env/files/deep_learn/deep_learning_project/known_images/sick/sick_217.png\n",
      "/home/joshard/jupyter_env/files/deep_learn/deep_learning_project/known_images/sick/sick_17.png\n",
      "/home/joshard/jupyter_env/files/deep_learn/deep_learning_project/known_images/sick/sick_313.png\n",
      "/home/joshard/jupyter_env/files/deep_learn/deep_learning_project/known_images/sick/sick_80.png\n",
      "/home/joshard/jupyter_env/files/deep_learn/deep_learning_project/known_images/sick/sick_71.png\n",
      "/home/joshard/jupyter_env/files/deep_learn/deep_learning_project/known_images/sick/sick_241.png\n",
      "/home/joshard/jupyter_env/files/deep_learn/deep_learning_project/known_images/sick/sick_264.png\n",
      "/home/joshard/jupyter_env/files/deep_learn/deep_learning_project/known_images/sick/sick_144.png\n",
      "/home/joshard/jupyter_env/files/deep_learn/deep_learning_project/known_images/sick/sick_104.png\n",
      "/home/joshard/jupyter_env/files/deep_learn/deep_learning_project/known_images/sick/sick_358.png\n",
      "/home/joshard/jupyter_env/files/deep_learn/deep_learning_project/known_images/sick/sick_332.png\n",
      "/home/joshard/jupyter_env/files/deep_learn/deep_learning_project/known_images/sick/sick_295.png\n",
      "/home/joshard/jupyter_env/files/deep_learn/deep_learning_project/known_images/sick/sick_367.png\n",
      "/home/joshard/jupyter_env/files/deep_learn/deep_learning_project/known_images/sick/sick_111.png\n",
      "/home/joshard/jupyter_env/files/deep_learn/deep_learning_project/known_images/sick/sick_266.png\n",
      "/home/joshard/jupyter_env/files/deep_learn/deep_learning_project/known_images/sick/sick_228.png\n",
      "/home/joshard/jupyter_env/files/deep_learn/deep_learning_project/known_images/sick/sick_122.png\n",
      "/home/joshard/jupyter_env/files/deep_learn/deep_learning_project/known_images/sick/sick_301.png\n",
      "/home/joshard/jupyter_env/files/deep_learn/deep_learning_project/known_images/sick/sick_329.png\n",
      "/home/joshard/jupyter_env/files/deep_learn/deep_learning_project/known_images/sick/sick_182.png\n",
      "/home/joshard/jupyter_env/files/deep_learn/deep_learning_project/known_images/sick/sick_226.png\n",
      "/home/joshard/jupyter_env/files/deep_learn/deep_learning_project/known_images/sick/sick_67.png\n",
      "/home/joshard/jupyter_env/files/deep_learn/deep_learning_project/known_images/sick/sick_33.png\n",
      "/home/joshard/jupyter_env/files/deep_learn/deep_learning_project/known_images/sick/sick_87.png\n",
      "/home/joshard/jupyter_env/files/deep_learn/deep_learning_project/known_images/sick/sick_112.png\n",
      "/home/joshard/jupyter_env/files/deep_learn/deep_learning_project/known_images/sick/sick_163.png\n",
      "/home/joshard/jupyter_env/files/deep_learn/deep_learning_project/known_images/sick/sick_114.png\n",
      "/home/joshard/jupyter_env/files/deep_learn/deep_learning_project/known_images/sick/sick_72.png\n",
      "/home/joshard/jupyter_env/files/deep_learn/deep_learning_project/known_images/sick/sick_43.png\n",
      "/home/joshard/jupyter_env/files/deep_learn/deep_learning_project/known_images/sick/sick_351.png\n",
      "/home/joshard/jupyter_env/files/deep_learn/deep_learning_project/known_images/sick/sick_341.png\n",
      "/home/joshard/jupyter_env/files/deep_learn/deep_learning_project/known_images/sick/sick_274.png\n",
      "/home/joshard/jupyter_env/files/deep_learn/deep_learning_project/known_images/sick/sick_206.png\n",
      "/home/joshard/jupyter_env/files/deep_learn/deep_learning_project/known_images/sick/sick_237.png\n",
      "/home/joshard/jupyter_env/files/deep_learn/deep_learning_project/known_images/sick/sick_141.png\n",
      "/home/joshard/jupyter_env/files/deep_learn/deep_learning_project/known_images/sick/sick_119.png\n",
      "/home/joshard/jupyter_env/files/deep_learn/deep_learning_project/known_images/sick/sick_257.png\n",
      "/home/joshard/jupyter_env/files/deep_learn/deep_learning_project/known_images/sick/sick_340.png\n",
      "/home/joshard/jupyter_env/files/deep_learn/deep_learning_project/known_images/sick/sick_310.png\n",
      "/home/joshard/jupyter_env/files/deep_learn/deep_learning_project/known_images/sick/sick_240.png\n",
      "/home/joshard/jupyter_env/files/deep_learn/deep_learning_project/known_images/sick/sick_277.png\n",
      "/home/joshard/jupyter_env/files/deep_learn/deep_learning_project/known_images/sick/sick_230.png\n",
      "/home/joshard/jupyter_env/files/deep_learn/deep_learning_project/known_images/sick/sick_24.png\n"
     ]
    }
   ],
   "source": [
    "import numpy as np \n",
    "import pandas as pd \n",
    "import os\n",
    "for dirname, _, filenames in os.walk('/home/joshard/jupyter_env/files/deep_learn/deep_learning_project/known_images'):\n",
    "    for filename in filenames:\n",
    "        print(os.path.join(dirname, filename))\n"
   ]
  },
  {
   "cell_type": "code",
   "execution_count": 7,
   "metadata": {
    "execution": {
     "iopub.execute_input": "2021-04-25T18:42:30.232779Z",
     "iopub.status.busy": "2021-04-25T18:42:30.232132Z",
     "iopub.status.idle": "2021-04-25T18:42:35.024275Z",
     "shell.execute_reply": "2021-04-25T18:42:35.025316Z"
    },
    "papermill": {
     "duration": 4.975573,
     "end_time": "2021-04-25T18:42:35.025623",
     "exception": false,
     "start_time": "2021-04-25T18:42:30.050050",
     "status": "completed"
    },
    "tags": []
   },
   "outputs": [
    {
     "name": "stderr",
     "output_type": "stream",
     "text": [
      "2023-05-03 16:51:39.562063: I tensorflow/tsl/cuda/cudart_stub.cc:28] Could not find cuda drivers on your machine, GPU will not be used.\n",
      "2023-05-03 16:51:39.604319: I tensorflow/tsl/cuda/cudart_stub.cc:28] Could not find cuda drivers on your machine, GPU will not be used.\n",
      "2023-05-03 16:51:39.605273: I tensorflow/core/platform/cpu_feature_guard.cc:182] This TensorFlow binary is optimized to use available CPU instructions in performance-critical operations.\n",
      "To enable the following instructions: AVX2 FMA, in other operations, rebuild TensorFlow with the appropriate compiler flags.\n",
      "2023-05-03 16:51:40.494556: W tensorflow/compiler/tf2tensorrt/utils/py_utils.cc:38] TF-TRT Warning: Could not find TensorRT\n"
     ]
    }
   ],
   "source": [
    "from keras.models import Sequential\n",
    "from keras.layers import Conv2D, MaxPooling2D, Activation, Dropout, Flatten, Dense\n",
    "from keras.preprocessing.image import ImageDataGenerator\n",
    "from tensorflow.keras.utils import img_to_array, load_img\n",
    "import matplotlib.pyplot as plt\n",
    "from PIL import Image \n",
    "from glob import glob"
   ]
  },
  {
   "cell_type": "code",
   "execution_count": 8,
   "metadata": {
    "execution": {
     "iopub.execute_input": "2021-04-25T18:42:36.118469Z",
     "iopub.status.busy": "2021-04-25T18:42:36.117622Z",
     "iopub.status.idle": "2021-04-25T18:42:36.119431Z",
     "shell.execute_reply": "2021-04-25T18:42:36.120025Z"
    },
    "papermill": {
     "duration": 0.301435,
     "end_time": "2021-04-25T18:42:36.120169",
     "exception": false,
     "start_time": "2021-04-25T18:42:35.818734",
     "status": "completed"
    },
    "tags": []
   },
   "outputs": [],
   "source": [
    "train_path = '/home/joshard/jupyter_env/files/deep_learn/deep_learning_project/known_images/'\n",
    "# test_path = '/home/joshard/jupyter_env/files/deep_learn/deep_learning_project/dataset1/unknown_images/'"
   ]
  },
  {
   "cell_type": "code",
   "execution_count": 9,
   "metadata": {
    "execution": {
     "iopub.execute_input": "2021-04-25T18:42:36.478734Z",
     "iopub.status.busy": "2021-04-25T18:42:36.478182Z",
     "iopub.status.idle": "2021-04-25T18:42:36.580068Z",
     "shell.execute_reply": "2021-04-25T18:42:36.580488Z"
    },
    "papermill": {
     "duration": 0.284897,
     "end_time": "2021-04-25T18:42:36.580633",
     "exception": false,
     "start_time": "2021-04-25T18:42:36.295736",
     "status": "completed"
    },
    "tags": []
   },
   "outputs": [
    {
     "data": {
      "image/png": "[encoded data removed]",
      "text/plain": [
       "<Figure size 640x480 with 1 Axes>"
      ]
     },
     "metadata": {},
     "output_type": "display_data"
    }
   ],
   "source": [
    "img = load_img(train_path + \"normal/normal_0.png\", target_size=(100,100))\n",
    "plt.imshow(img)\n",
    "plt.axis(\"off\")\n",
    "plt.show()\n"
   ]
  },
  {
   "cell_type": "code",
   "execution_count": 10,
   "metadata": {
    "execution": {
     "iopub.execute_input": "2021-04-25T18:42:36.937039Z",
     "iopub.status.busy": "2021-04-25T18:42:36.936185Z",
     "iopub.status.idle": "2021-04-25T18:42:36.937994Z",
     "shell.execute_reply": "2021-04-25T18:42:36.938402Z"
    },
    "papermill": {
     "duration": 0.183941,
     "end_time": "2021-04-25T18:42:36.938557",
     "exception": false,
     "start_time": "2021-04-25T18:42:36.754616",
     "status": "completed"
    },
    "tags": []
   },
   "outputs": [],
   "source": [
    "images = ['sick', 'normal']\n"
   ]
  },
  {
   "cell_type": "code",
   "execution_count": 25,
   "metadata": {},
   "outputs": [
    {
     "name": "stderr",
     "output_type": "stream",
     "text": [
      "Copying files: 715 files [00:00, 3907.33 files/s]\n"
     ]
    }
   ],
   "source": [
    "# split data into train and test set\n",
    "import splitfolders\n",
    "\n",
    "image_directory= '/home/joshard/jupyter_env/files/deep_learn/deep_learning_project/known_images/'\n",
    "splitfolders.ratio(image_directory, output=\"/home/joshard/jupyter_env/files/deep_learn/deep_learning_project/\",\n",
    "        seed=42, ratio=(0.7, 0.3), group_prefix=None, move=False) # default values"
   ]
  },
  {
   "cell_type": "code",
   "execution_count": 60,
   "metadata": {},
   "outputs": [],
   "source": [
    "train = '/home/joshard/jupyter_env/files/deep_learn/deep_learning_project/train/'\n",
    "test = '/home/joshard/jupyter_env/files/deep_learn/deep_learning_project/val/'"
   ]
  },
  {
   "cell_type": "code",
   "execution_count": 61,
   "metadata": {
    "execution": {
     "iopub.execute_input": "2021-04-25T18:42:38.035159Z",
     "iopub.status.busy": "2021-04-25T18:42:38.034530Z",
     "iopub.status.idle": "2021-04-25T18:42:38.037680Z",
     "shell.execute_reply": "2021-04-25T18:42:38.038315Z"
    },
    "papermill": {
     "duration": 0.188094,
     "end_time": "2021-04-25T18:42:38.038533",
     "exception": false,
     "start_time": "2021-04-25T18:42:37.850439",
     "status": "completed"
    },
    "tags": []
   },
   "outputs": [
    {
     "name": "stdout",
     "output_type": "stream",
     "text": [
      "(100, 100, 3)\n"
     ]
    }
   ],
   "source": [
    "x = img_to_array(img)\n",
    "print(x.shape)"
   ]
  },
  {
   "cell_type": "code",
   "execution_count": 62,
   "metadata": {
    "execution": {
     "iopub.execute_input": "2021-04-25T18:42:38.402791Z",
     "iopub.status.busy": "2021-04-25T18:42:38.402057Z",
     "iopub.status.idle": "2021-04-25T18:42:38.405623Z",
     "shell.execute_reply": "2021-04-25T18:42:38.406197Z"
    },
    "papermill": {
     "duration": 0.190449,
     "end_time": "2021-04-25T18:42:38.406391",
     "exception": false,
     "start_time": "2021-04-25T18:42:38.215942",
     "status": "completed"
    },
    "tags": []
   },
   "outputs": [
    {
     "name": "stdout",
     "output_type": "stream",
     "text": [
      "2\n"
     ]
    }
   ],
   "source": [
    "className = glob(train_path + '/*')\n",
    "number_of_class = len(className)\n",
    "print(number_of_class)"
   ]
  },
  {
   "cell_type": "markdown",
   "metadata": {
    "papermill": {
     "duration": 0.179662,
     "end_time": "2021-04-25T18:42:39.122194",
     "exception": false,
     "start_time": "2021-04-25T18:42:38.942532",
     "status": "completed"
    },
    "tags": []
   },
   "source": [
    "# Cnn Model"
   ]
  },
  {
   "cell_type": "code",
   "execution_count": 63,
   "metadata": {
    "execution": {
     "iopub.execute_input": "2021-04-25T18:42:39.493147Z",
     "iopub.status.busy": "2021-04-25T18:42:39.492605Z",
     "iopub.status.idle": "2021-04-25T18:42:42.373851Z",
     "shell.execute_reply": "2021-04-25T18:42:42.372363Z"
    },
    "papermill": {
     "duration": 3.071098,
     "end_time": "2021-04-25T18:42:42.373987",
     "exception": false,
     "start_time": "2021-04-25T18:42:39.302889",
     "status": "completed"
    },
    "tags": []
   },
   "outputs": [],
   "source": [
    "model = Sequential()\n",
    "model.add(Conv2D(32, (3,3), input_shape= x.shape))\n",
    "model.add(Activation(\"relu\"))\n",
    "model.add(MaxPooling2D())\n",
    "\n",
    "model.add(Conv2D(32, (3,3),))\n",
    "model.add(Activation(\"relu\"))\n",
    "model.add(MaxPooling2D())\n",
    "\n",
    "model.add(Conv2D(64, (3,3),))\n",
    "model.add(Activation(\"relu\"))\n",
    "model.add(MaxPooling2D())\n",
    "\n",
    "model.add(Flatten())\n",
    "model.add(Dense(1024))\n",
    "model.add(Activation(\"relu\"))\n",
    "model.add(Dropout(0.5))\n",
    "model.add(Dense(number_of_class))#output\n",
    "model.add(Activation(\"softmax\"))\n"
   ]
  },
  {
   "cell_type": "code",
   "execution_count": 64,
   "metadata": {
    "execution": {
     "iopub.execute_input": "2021-04-25T18:42:42.746367Z",
     "iopub.status.busy": "2021-04-25T18:42:42.745484Z",
     "iopub.status.idle": "2021-04-25T18:42:42.752852Z",
     "shell.execute_reply": "2021-04-25T18:42:42.752415Z"
    },
    "papermill": {
     "duration": 0.198497,
     "end_time": "2021-04-25T18:42:42.752975",
     "exception": false,
     "start_time": "2021-04-25T18:42:42.554478",
     "status": "completed"
    },
    "tags": []
   },
   "outputs": [],
   "source": [
    "model.compile(loss = \"categorical_crossentropy\",\n",
    "             optimizer = \"rmsprop\",\n",
    "             metrics = [\"accuracy\"])"
   ]
  },
  {
   "cell_type": "code",
   "execution_count": 65,
   "metadata": {
    "execution": {
     "iopub.execute_input": "2021-04-25T18:42:43.124539Z",
     "iopub.status.busy": "2021-04-25T18:42:43.123692Z",
     "iopub.status.idle": "2021-04-25T18:42:43.131502Z",
     "shell.execute_reply": "2021-04-25T18:42:43.130691Z"
    },
    "papermill": {
     "duration": 0.199051,
     "end_time": "2021-04-25T18:42:43.131690",
     "exception": false,
     "start_time": "2021-04-25T18:42:42.932639",
     "status": "completed"
    },
    "tags": []
   },
   "outputs": [
    {
     "name": "stdout",
     "output_type": "stream",
     "text": [
      "Model: \"sequential_3\"\n",
      "_________________________________________________________________\n",
      " Layer (type)                Output Shape              Param #   \n",
      "=================================================================\n",
      " conv2d_9 (Conv2D)           (None, 98, 98, 32)        896       \n",
      "                                                                 \n",
      " activation_15 (Activation)  (None, 98, 98, 32)        0         \n",
      "                                                                 \n",
      " max_pooling2d_9 (MaxPooling  (None, 49, 49, 32)       0         \n",
      " 2D)                                                             \n",
      "                                                                 \n",
      " conv2d_10 (Conv2D)          (None, 47, 47, 32)        9248      \n",
      "                                                                 \n",
      " activation_16 (Activation)  (None, 47, 47, 32)        0         \n",
      "                                                                 \n",
      " max_pooling2d_10 (MaxPoolin  (None, 23, 23, 32)       0         \n",
      " g2D)                                                            \n",
      "                                                                 \n",
      " conv2d_11 (Conv2D)          (None, 21, 21, 64)        18496     \n",
      "                                                                 \n",
      " activation_17 (Activation)  (None, 21, 21, 64)        0         \n",
      "                                                                 \n",
      " max_pooling2d_11 (MaxPoolin  (None, 10, 10, 64)       0         \n",
      " g2D)                                                            \n",
      "                                                                 \n",
      " flatten_3 (Flatten)         (None, 6400)              0         \n",
      "                                                                 \n",
      " dense_6 (Dense)             (None, 1024)              6554624   \n",
      "                                                                 \n",
      " activation_18 (Activation)  (None, 1024)              0         \n",
      "                                                                 \n",
      " dropout_3 (Dropout)         (None, 1024)              0         \n",
      "                                                                 \n",
      " dense_7 (Dense)             (None, 2)                 2050      \n",
      "                                                                 \n",
      " activation_19 (Activation)  (None, 2)                 0         \n",
      "                                                                 \n",
      "=================================================================\n",
      "Total params: 6,585,314\n",
      "Trainable params: 6,585,314\n",
      "Non-trainable params: 0\n",
      "_________________________________________________________________\n"
     ]
    }
   ],
   "source": [
    "model.summary()"
   ]
  },
  {
   "cell_type": "code",
   "execution_count": 66,
   "metadata": {
    "execution": {
     "iopub.execute_input": "2021-04-25T18:42:43.502916Z",
     "iopub.status.busy": "2021-04-25T18:42:43.502142Z",
     "iopub.status.idle": "2021-04-25T18:42:43.506035Z",
     "shell.execute_reply": "2021-04-25T18:42:43.505163Z"
    },
    "papermill": {
     "duration": 0.193747,
     "end_time": "2021-04-25T18:42:43.506155",
     "exception": false,
     "start_time": "2021-04-25T18:42:43.312408",
     "status": "completed"
    },
    "tags": []
   },
   "outputs": [],
   "source": [
    "batch_size = 32"
   ]
  },
  {
   "cell_type": "markdown",
   "metadata": {
    "papermill": {
     "duration": 0.180083,
     "end_time": "2021-04-25T18:42:43.866813",
     "exception": false,
     "start_time": "2021-04-25T18:42:43.686730",
     "status": "completed"
    },
    "tags": []
   },
   "source": [
    "# Data Augmentation"
   ]
  },
  {
   "cell_type": "code",
   "execution_count": 67,
   "metadata": {
    "execution": {
     "iopub.execute_input": "2021-04-25T18:42:44.592887Z",
     "iopub.status.busy": "2021-04-25T18:42:44.592337Z",
     "iopub.status.idle": "2021-04-25T18:42:49.665029Z",
     "shell.execute_reply": "2021-04-25T18:42:49.665623Z"
    },
    "papermill": {
     "duration": 5.258865,
     "end_time": "2021-04-25T18:42:49.665828",
     "exception": false,
     "start_time": "2021-04-25T18:42:44.406963",
     "status": "completed"
    },
    "tags": []
   },
   "outputs": [
    {
     "name": "stdout",
     "output_type": "stream",
     "text": [
      "Found 499 images belonging to 2 classes.\n",
      "Found 216 images belonging to 2 classes.\n"
     ]
    }
   ],
   "source": [
    "train_datagen = ImageDataGenerator(rescale = 1./255,\n",
    "                  shear_range = 0.3,\n",
    "                  horizontal_flip=True,\n",
    "                  vertical_flip=False,\n",
    "                  zoom_range = 0.3\n",
    "                  )\n",
    "test_datagen  = ImageDataGenerator(rescale = 1./255)\n",
    "\n",
    "train_generator = train_datagen.flow_from_directory(train,\n",
    "                                                    target_size=x.shape[:2],\n",
    "                                                    batch_size = batch_size,\n",
    "                                                    color_mode= \"rgb\",\n",
    "                                                    class_mode = \"categorical\")\n",
    "test_generator = test_datagen.flow_from_directory(test,\n",
    "                                                    target_size=x.shape[:2],\n",
    "                                                    batch_size = batch_size,\n",
    "                                                    color_mode= \"rgb\",\n",
    "                                                    class_mode = \"categorical\")"
   ]
  },
  {
   "cell_type": "code",
   "execution_count": 68,
   "metadata": {
    "execution": {
     "iopub.execute_input": "2021-04-25T18:42:50.032327Z",
     "iopub.status.busy": "2021-04-25T18:42:50.031788Z",
     "iopub.status.idle": "2021-04-25T18:51:46.672762Z",
     "shell.execute_reply": "2021-04-25T18:51:46.673285Z"
    },
    "papermill": {
     "duration": 536.827909,
     "end_time": "2021-04-25T18:51:46.673489",
     "exception": false,
     "start_time": "2021-04-25T18:42:49.845580",
     "status": "completed"
    },
    "tags": []
   },
   "outputs": [
    {
     "name": "stdout",
     "output_type": "stream",
     "text": [
      "Epoch 1/50\n"
     ]
    },
    {
     "name": "stderr",
     "output_type": "stream",
     "text": [
      "/tmp/ipykernel_3277/2031776193.py:1: UserWarning: `Model.fit_generator` is deprecated and will be removed in a future version. Please use `Model.fit`, which supports generators.\n",
      "  hist = model.fit_generator(generator = train_generator,\n",
      "2023-05-03 19:38:10.831268: I tensorflow/core/common_runtime/executor.cc:1197] [/device:CPU:0] (DEBUG INFO) Executor start aborting (this does not indicate an error and you can ignore this message): INVALID_ARGUMENT: You must feed a value for placeholder tensor 'Placeholder/_0' with dtype int32\n",
      "\t [[{{node Placeholder/_0}}]]\n"
     ]
    },
    {
     "name": "stdout",
     "output_type": "stream",
     "text": [
      "5/5 [==============================] - ETA: 0s - loss: 1.5640 - accuracy: 0.5374"
     ]
    },
    {
     "name": "stderr",
     "output_type": "stream",
     "text": [
      "2023-05-03 19:38:13.132514: I tensorflow/core/common_runtime/executor.cc:1197] [/device:CPU:0] (DEBUG INFO) Executor start aborting (this does not indicate an error and you can ignore this message): INVALID_ARGUMENT: You must feed a value for placeholder tensor 'Placeholder/_0' with dtype int32\n",
      "\t [[{{node Placeholder/_0}}]]\n"
     ]
    },
    {
     "name": "stdout",
     "output_type": "stream",
     "text": [
      "5/5 [==============================] - 3s 427ms/step - loss: 1.5640 - accuracy: 0.5374 - val_loss: 0.6478 - val_accuracy: 0.7812\n",
      "Epoch 2/50\n",
      "5/5 [==============================] - 2s 420ms/step - loss: 0.6367 - accuracy: 0.6667 - val_loss: 0.6864 - val_accuracy: 0.4531\n",
      "Epoch 3/50\n",
      "5/5 [==============================] - 2s 358ms/step - loss: 0.5428 - accuracy: 0.8095 - val_loss: 0.7294 - val_accuracy: 0.5156\n",
      "Epoch 4/50\n",
      "5/5 [==============================] - 2s 392ms/step - loss: 0.4854 - accuracy: 0.7875 - val_loss: 0.2826 - val_accuracy: 0.8594\n",
      "Epoch 5/50\n",
      "5/5 [==============================] - 2s 362ms/step - loss: 0.5134 - accuracy: 0.7415 - val_loss: 0.4035 - val_accuracy: 0.8750\n",
      "Epoch 6/50\n",
      "5/5 [==============================] - 2s 396ms/step - loss: 0.5179 - accuracy: 0.7375 - val_loss: 0.3552 - val_accuracy: 0.9531\n",
      "Epoch 7/50\n",
      "5/5 [==============================] - 2s 382ms/step - loss: 0.4832 - accuracy: 0.7625 - val_loss: 0.3377 - val_accuracy: 0.8125\n",
      "Epoch 8/50\n",
      "5/5 [==============================] - 2s 377ms/step - loss: 0.6743 - accuracy: 0.7875 - val_loss: 0.4322 - val_accuracy: 0.8125\n",
      "Epoch 9/50\n",
      "5/5 [==============================] - 2s 382ms/step - loss: 0.4232 - accuracy: 0.8062 - val_loss: 0.2542 - val_accuracy: 0.8906\n",
      "Epoch 10/50\n",
      "5/5 [==============================] - 2s 365ms/step - loss: 0.4502 - accuracy: 0.7959 - val_loss: 0.3270 - val_accuracy: 0.9219\n",
      "Epoch 11/50\n",
      "5/5 [==============================] - 2s 386ms/step - loss: 0.4106 - accuracy: 0.8188 - val_loss: 0.2126 - val_accuracy: 0.9375\n",
      "Epoch 12/50\n",
      "5/5 [==============================] - 2s 404ms/step - loss: 0.4008 - accuracy: 0.8062 - val_loss: 0.3150 - val_accuracy: 0.8594\n",
      "Epoch 13/50\n",
      "5/5 [==============================] - 2s 358ms/step - loss: 0.4759 - accuracy: 0.7891 - val_loss: 0.3220 - val_accuracy: 0.8594\n",
      "Epoch 14/50\n",
      "5/5 [==============================] - 2s 386ms/step - loss: 0.3894 - accuracy: 0.8313 - val_loss: 0.2951 - val_accuracy: 0.8750\n",
      "Epoch 15/50\n",
      "5/5 [==============================] - 2s 369ms/step - loss: 0.4693 - accuracy: 0.7483 - val_loss: 0.2438 - val_accuracy: 0.8906\n",
      "Epoch 16/50\n",
      "5/5 [==============================] - 2s 374ms/step - loss: 0.3521 - accuracy: 0.8503 - val_loss: 0.1803 - val_accuracy: 0.9531\n",
      "Epoch 17/50\n",
      "5/5 [==============================] - 2s 426ms/step - loss: 0.3262 - accuracy: 0.8562 - val_loss: 0.2568 - val_accuracy: 0.8594\n",
      "Epoch 18/50\n",
      "5/5 [==============================] - 2s 379ms/step - loss: 0.3115 - accuracy: 0.8571 - val_loss: 0.2161 - val_accuracy: 0.8906\n",
      "Epoch 19/50\n",
      "5/5 [==============================] - 2s 383ms/step - loss: 0.2933 - accuracy: 0.8562 - val_loss: 0.3899 - val_accuracy: 0.7969\n",
      "Epoch 20/50\n",
      "5/5 [==============================] - 2s 383ms/step - loss: 0.3092 - accuracy: 0.8875 - val_loss: 0.1578 - val_accuracy: 0.9219\n",
      "Epoch 21/50\n",
      "5/5 [==============================] - 2s 383ms/step - loss: 0.2579 - accuracy: 0.8875 - val_loss: 0.3064 - val_accuracy: 0.9219\n",
      "Epoch 22/50\n",
      "5/5 [==============================] - 2s 376ms/step - loss: 0.3243 - accuracy: 0.8313 - val_loss: 0.2980 - val_accuracy: 0.8594\n",
      "Epoch 23/50\n",
      "5/5 [==============================] - 2s 391ms/step - loss: 0.3422 - accuracy: 0.8438 - val_loss: 0.3243 - val_accuracy: 0.8281\n",
      "Epoch 24/50\n",
      "5/5 [==============================] - 2s 367ms/step - loss: 0.2743 - accuracy: 0.8844 - val_loss: 0.2000 - val_accuracy: 0.9219\n",
      "Epoch 25/50\n",
      "5/5 [==============================] - 2s 400ms/step - loss: 0.2690 - accuracy: 0.8938 - val_loss: 0.2271 - val_accuracy: 0.8906\n",
      "Epoch 26/50\n",
      "5/5 [==============================] - 2s 403ms/step - loss: 0.3548 - accuracy: 0.8562 - val_loss: 0.1856 - val_accuracy: 0.9531\n",
      "Epoch 27/50\n",
      "5/5 [==============================] - 2s 410ms/step - loss: 0.2845 - accuracy: 0.8625 - val_loss: 0.2201 - val_accuracy: 0.9375\n",
      "Epoch 28/50\n",
      "5/5 [==============================] - 2s 384ms/step - loss: 0.2512 - accuracy: 0.8938 - val_loss: 0.1234 - val_accuracy: 0.9531\n",
      "Epoch 29/50\n",
      "5/5 [==============================] - 2s 354ms/step - loss: 0.2618 - accuracy: 0.8844 - val_loss: 0.3133 - val_accuracy: 0.8594\n",
      "Epoch 30/50\n",
      "5/5 [==============================] - 2s 397ms/step - loss: 0.2849 - accuracy: 0.8813 - val_loss: 0.0854 - val_accuracy: 0.9844\n",
      "Epoch 31/50\n",
      "5/5 [==============================] - 2s 384ms/step - loss: 0.2156 - accuracy: 0.9250 - val_loss: 0.2553 - val_accuracy: 0.9062\n",
      "Epoch 32/50\n",
      "5/5 [==============================] - 2s 386ms/step - loss: 0.1988 - accuracy: 0.8938 - val_loss: 0.1155 - val_accuracy: 0.9688\n",
      "Epoch 33/50\n",
      "5/5 [==============================] - 2s 371ms/step - loss: 0.3615 - accuracy: 0.8299 - val_loss: 0.1664 - val_accuracy: 0.9844\n",
      "Epoch 34/50\n",
      "5/5 [==============================] - 2s 445ms/step - loss: 0.2462 - accuracy: 0.9000 - val_loss: 0.1248 - val_accuracy: 0.9375\n",
      "Epoch 35/50\n",
      "5/5 [==============================] - 2s 387ms/step - loss: 0.1300 - accuracy: 0.9625 - val_loss: 0.2582 - val_accuracy: 0.8594\n",
      "Epoch 36/50\n",
      "5/5 [==============================] - 2s 383ms/step - loss: 0.2167 - accuracy: 0.9125 - val_loss: 0.1134 - val_accuracy: 0.9531\n",
      "Epoch 37/50\n",
      "5/5 [==============================] - 2s 381ms/step - loss: 0.1726 - accuracy: 0.9312 - val_loss: 0.0986 - val_accuracy: 0.9531\n",
      "Epoch 38/50\n",
      "5/5 [==============================] - 2s 379ms/step - loss: 0.2161 - accuracy: 0.9187 - val_loss: 0.2537 - val_accuracy: 0.8906\n",
      "Epoch 39/50\n",
      "5/5 [==============================] - 2s 393ms/step - loss: 0.1752 - accuracy: 0.9125 - val_loss: 0.1959 - val_accuracy: 0.9219\n",
      "Epoch 40/50\n",
      "5/5 [==============================] - 2s 383ms/step - loss: 0.1939 - accuracy: 0.9000 - val_loss: 0.1660 - val_accuracy: 0.8906\n",
      "Epoch 41/50\n",
      "5/5 [==============================] - 2s 392ms/step - loss: 0.1655 - accuracy: 0.9375 - val_loss: 0.1476 - val_accuracy: 0.9375\n",
      "Epoch 42/50\n",
      "5/5 [==============================] - 2s 393ms/step - loss: 0.1802 - accuracy: 0.9456 - val_loss: 0.3571 - val_accuracy: 0.8438\n",
      "Epoch 43/50\n",
      "5/5 [==============================] - 2s 392ms/step - loss: 0.1750 - accuracy: 0.9125 - val_loss: 0.4138 - val_accuracy: 0.8281\n",
      "Epoch 44/50\n",
      "5/5 [==============================] - 2s 366ms/step - loss: 0.1517 - accuracy: 0.9320 - val_loss: 0.1318 - val_accuracy: 0.9062\n",
      "Epoch 45/50\n",
      "5/5 [==============================] - 2s 394ms/step - loss: 0.2333 - accuracy: 0.8875 - val_loss: 0.0719 - val_accuracy: 0.9688\n",
      "Epoch 46/50\n",
      "5/5 [==============================] - 3s 529ms/step - loss: 0.3341 - accuracy: 0.8625 - val_loss: 0.1630 - val_accuracy: 0.9062\n",
      "Epoch 47/50\n",
      "5/5 [==============================] - 2s 392ms/step - loss: 0.1739 - accuracy: 0.9125 - val_loss: 0.1784 - val_accuracy: 0.9219\n",
      "Epoch 48/50\n",
      "5/5 [==============================] - 2s 431ms/step - loss: 0.1583 - accuracy: 0.9250 - val_loss: 0.1609 - val_accuracy: 0.9219\n",
      "Epoch 49/50\n",
      "5/5 [==============================] - 2s 372ms/step - loss: 0.1612 - accuracy: 0.9184 - val_loss: 0.1257 - val_accuracy: 0.9688\n",
      "Epoch 50/50\n",
      "5/5 [==============================] - 2s 374ms/step - loss: 0.1482 - accuracy: 0.9320 - val_loss: 0.0249 - val_accuracy: 1.0000\n"
     ]
    }
   ],
   "source": [
    "hist = model.fit_generator(generator = train_generator, \n",
    "                   steps_per_epoch = 160 // batch_size,\n",
    "                   epochs = 50,\n",
    "                   validation_data = test_generator,\n",
    "                   validation_steps = 80 // batch_size)"
   ]
  },
  {
   "cell_type": "code",
   "execution_count": 69,
   "metadata": {
    "execution": {
     "iopub.execute_input": "2021-04-25T18:51:48.358249Z",
     "iopub.status.busy": "2021-04-25T18:51:48.356535Z",
     "iopub.status.idle": "2021-04-25T18:51:48.358939Z",
     "shell.execute_reply": "2021-04-25T18:51:48.359345Z"
    },
    "papermill": {
     "duration": 0.855516,
     "end_time": "2021-04-25T18:51:48.359497",
     "exception": false,
     "start_time": "2021-04-25T18:51:47.503981",
     "status": "completed"
    },
    "tags": []
   },
   "outputs": [],
   "source": [
    "#model.save_weights(\"example.h5\")"
   ]
  },
  {
   "cell_type": "code",
   "execution_count": 70,
   "metadata": {
    "execution": {
     "iopub.execute_input": "2021-04-25T18:51:50.043253Z",
     "iopub.status.busy": "2021-04-25T18:51:50.042609Z",
     "iopub.status.idle": "2021-04-25T18:51:50.045651Z",
     "shell.execute_reply": "2021-04-25T18:51:50.046051Z"
    },
    "papermill": {
     "duration": 0.848627,
     "end_time": "2021-04-25T18:51:50.046185",
     "exception": false,
     "start_time": "2021-04-25T18:51:49.197558",
     "status": "completed"
    },
    "tags": []
   },
   "outputs": [
    {
     "name": "stdout",
     "output_type": "stream",
     "text": [
      "dict_keys(['loss', 'accuracy', 'val_loss', 'val_accuracy'])\n"
     ]
    }
   ],
   "source": [
    "print(hist.history.keys())"
   ]
  },
  {
   "cell_type": "markdown",
   "metadata": {
    "papermill": {
     "duration": 0.83411,
     "end_time": "2021-04-25T18:51:51.724102",
     "exception": false,
     "start_time": "2021-04-25T18:51:50.889992",
     "status": "completed"
    },
    "tags": []
   },
   "source": [
    "# Train-Validation Loss"
   ]
  },
  {
   "cell_type": "code",
   "execution_count": 71,
   "metadata": {
    "execution": {
     "iopub.execute_input": "2021-04-25T18:51:53.422775Z",
     "iopub.status.busy": "2021-04-25T18:51:53.421685Z",
     "iopub.status.idle": "2021-04-25T18:51:53.536918Z",
     "shell.execute_reply": "2021-04-25T18:51:53.536506Z"
    },
    "papermill": {
     "duration": 0.980839,
     "end_time": "2021-04-25T18:51:53.537037",
     "exception": false,
     "start_time": "2021-04-25T18:51:52.556198",
     "status": "completed"
    },
    "tags": []
   },
   "outputs": [
    {
     "data": {
      "image/png": "[encoded data removed]",
      "text/plain": [
       "<Figure size 640x480 with 1 Axes>"
      ]
     },
     "metadata": {},
     "output_type": "display_data"
    }
   ],
   "source": [
    "plt.plot(hist.history[\"loss\"], label = \"Train Loss\")\n",
    "plt.plot(hist.history[\"val_loss\"], label = \"Validation Loss\")\n",
    "plt.legend()\n",
    "plt.show()"
   ]
  },
  {
   "cell_type": "markdown",
   "metadata": {
    "papermill": {
     "duration": 0.874629,
     "end_time": "2021-04-25T18:51:55.252369",
     "exception": false,
     "start_time": "2021-04-25T18:51:54.377740",
     "status": "completed"
    },
    "tags": []
   },
   "source": [
    "# Train-Validation Accuracy"
   ]
  },
  {
   "cell_type": "code",
   "execution_count": 72,
   "metadata": {
    "execution": {
     "iopub.execute_input": "2021-04-25T18:51:57.841225Z",
     "iopub.status.busy": "2021-04-25T18:51:57.840361Z",
     "iopub.status.idle": "2021-04-25T18:51:57.947150Z",
     "shell.execute_reply": "2021-04-25T18:51:57.947690Z"
    },
    "papermill": {
     "duration": 1.098782,
     "end_time": "2021-04-25T18:51:57.947855",
     "exception": false,
     "start_time": "2021-04-25T18:51:56.849073",
     "status": "completed"
    },
    "tags": []
   },
   "outputs": [
    {
     "data": {
      "image/png": "[encoded data removed]",
      "text/plain": [
       "<Figure size 640x480 with 1 Axes>"
      ]
     },
     "metadata": {},
     "output_type": "display_data"
    }
   ],
   "source": [
    "plt.plot(hist.history[\"accuracy\"], label = \"Train Accuracy\")\n",
    "plt.plot(hist.history[\"val_accuracy\"], label = \"Validation Accuracy\")\n",
    "plt.legend()\n",
    "plt.show()"
   ]
  },
  {
   "cell_type": "code",
   "execution_count": null,
   "metadata": {},
   "outputs": [],
   "source": []
  }
 ],
 "metadata": {
  "kernelspec": {
   "display_name": "Python 3 (ipykernel)",
   "language": "python",
   "name": "python3"
  },
  "language_info": {
   "codemirror_mode": {
    "name": "ipython",
    "version": 3
   },
   "file_extension": ".py",
   "mimetype": "text/x-python",
   "name": "python",
   "nbconvert_exporter": "python",
   "pygments_lexer": "ipython3",
   "version": "3.11.1"
  },
  "papermill": {
   "default_parameters": {},
   "duration": 601.167227,
   "end_time": "2021-04-25T18:52:03.726952",
   "environment_variables": {},
   "exception": null,
   "input_path": "__notebook__.ipynb",
   "output_path": "__notebook__.ipynb",
   "parameters": {},
   "start_time": "2021-04-25T18:42:02.559725",
   "version": "2.2.2"
  }
 },
 "nbformat": 4,
 "nbformat_minor": 4
}
